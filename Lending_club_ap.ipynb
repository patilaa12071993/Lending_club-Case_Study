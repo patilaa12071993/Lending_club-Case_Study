{
 "cells": [
  {
   "cell_type": "markdown",
   "metadata": {},
   "source": [
    "# Lending club case study"
   ]
  },
  {
   "cell_type": "markdown",
   "metadata": {},
   "source": [
    "### Importing required libraries"
   ]
  },
  {
   "cell_type": "code",
   "execution_count": 2,
   "metadata": {},
   "outputs": [],
   "source": [
    "import numpy as np\n",
    "import seaborn as sns\n",
    "import pandas as pd\n",
    "import matplotlib.pyplot as plt\n",
    "%matplotlib inline\n",
    "sns.set()"
   ]
  },
  {
   "cell_type": "markdown",
   "metadata": {},
   "source": [
    "### Importing dataset"
   ]
  },
  {
   "cell_type": "markdown",
   "metadata": {},
   "source": [
    "Import csv files of given data with encoding specified as \"palmos\""
   ]
  },
  {
   "cell_type": "code",
   "execution_count": 3,
   "metadata": {},
   "outputs": [],
   "source": [
    "loan = pd.read_csv(\"F:/AI ML/Lending Club Case study/loan/loan.csv\",  encoding=\"palmos\", low_memory=False)"
   ]
  },
  {
   "cell_type": "code",
   "execution_count": 4,
   "metadata": {},
   "outputs": [
    {
     "data": {
      "text/plain": [
       "(39717, 111)"
      ]
     },
     "execution_count": 4,
     "metadata": {},
     "output_type": "execute_result"
    }
   ],
   "source": [
    "loan.shape"
   ]
  },
  {
   "cell_type": "code",
   "execution_count": 5,
   "metadata": {},
   "outputs": [
    {
     "data": {
      "text/html": [
       "<div>\n",
       "<style scoped>\n",
       "    .dataframe tbody tr th:only-of-type {\n",
       "        vertical-align: middle;\n",
       "    }\n",
       "\n",
       "    .dataframe tbody tr th {\n",
       "        vertical-align: top;\n",
       "    }\n",
       "\n",
       "    .dataframe thead th {\n",
       "        text-align: right;\n",
       "    }\n",
       "</style>\n",
       "<table border=\"1\" class=\"dataframe\">\n",
       "  <thead>\n",
       "    <tr style=\"text-align: right;\">\n",
       "      <th></th>\n",
       "      <th>id</th>\n",
       "      <th>member_id</th>\n",
       "      <th>loan_amnt</th>\n",
       "      <th>funded_amnt</th>\n",
       "      <th>funded_amnt_inv</th>\n",
       "      <th>installment</th>\n",
       "      <th>annual_inc</th>\n",
       "      <th>dti</th>\n",
       "      <th>delinq_2yrs</th>\n",
       "      <th>inq_last_6mths</th>\n",
       "      <th>...</th>\n",
       "      <th>num_tl_90g_dpd_24m</th>\n",
       "      <th>num_tl_op_past_12m</th>\n",
       "      <th>pct_tl_nvr_dlq</th>\n",
       "      <th>percent_bc_gt_75</th>\n",
       "      <th>pub_rec_bankruptcies</th>\n",
       "      <th>tax_liens</th>\n",
       "      <th>tot_hi_cred_lim</th>\n",
       "      <th>total_bal_ex_mort</th>\n",
       "      <th>total_bc_limit</th>\n",
       "      <th>total_il_high_credit_limit</th>\n",
       "    </tr>\n",
       "  </thead>\n",
       "  <tbody>\n",
       "    <tr>\n",
       "      <th>count</th>\n",
       "      <td>3.971700e+04</td>\n",
       "      <td>3.971700e+04</td>\n",
       "      <td>39717.000000</td>\n",
       "      <td>39717.000000</td>\n",
       "      <td>39717.000000</td>\n",
       "      <td>39717.000000</td>\n",
       "      <td>3.971700e+04</td>\n",
       "      <td>39717.000000</td>\n",
       "      <td>39717.000000</td>\n",
       "      <td>39717.000000</td>\n",
       "      <td>...</td>\n",
       "      <td>0.0</td>\n",
       "      <td>0.0</td>\n",
       "      <td>0.0</td>\n",
       "      <td>0.0</td>\n",
       "      <td>39020.000000</td>\n",
       "      <td>39678.0</td>\n",
       "      <td>0.0</td>\n",
       "      <td>0.0</td>\n",
       "      <td>0.0</td>\n",
       "      <td>0.0</td>\n",
       "    </tr>\n",
       "    <tr>\n",
       "      <th>mean</th>\n",
       "      <td>6.831319e+05</td>\n",
       "      <td>8.504636e+05</td>\n",
       "      <td>11219.443815</td>\n",
       "      <td>10947.713196</td>\n",
       "      <td>10397.448868</td>\n",
       "      <td>324.561922</td>\n",
       "      <td>6.896893e+04</td>\n",
       "      <td>13.315130</td>\n",
       "      <td>0.146512</td>\n",
       "      <td>0.869200</td>\n",
       "      <td>...</td>\n",
       "      <td>NaN</td>\n",
       "      <td>NaN</td>\n",
       "      <td>NaN</td>\n",
       "      <td>NaN</td>\n",
       "      <td>0.043260</td>\n",
       "      <td>0.0</td>\n",
       "      <td>NaN</td>\n",
       "      <td>NaN</td>\n",
       "      <td>NaN</td>\n",
       "      <td>NaN</td>\n",
       "    </tr>\n",
       "    <tr>\n",
       "      <th>std</th>\n",
       "      <td>2.106941e+05</td>\n",
       "      <td>2.656783e+05</td>\n",
       "      <td>7456.670694</td>\n",
       "      <td>7187.238670</td>\n",
       "      <td>7128.450439</td>\n",
       "      <td>208.874874</td>\n",
       "      <td>6.379377e+04</td>\n",
       "      <td>6.678594</td>\n",
       "      <td>0.491812</td>\n",
       "      <td>1.070219</td>\n",
       "      <td>...</td>\n",
       "      <td>NaN</td>\n",
       "      <td>NaN</td>\n",
       "      <td>NaN</td>\n",
       "      <td>NaN</td>\n",
       "      <td>0.204324</td>\n",
       "      <td>0.0</td>\n",
       "      <td>NaN</td>\n",
       "      <td>NaN</td>\n",
       "      <td>NaN</td>\n",
       "      <td>NaN</td>\n",
       "    </tr>\n",
       "    <tr>\n",
       "      <th>min</th>\n",
       "      <td>5.473400e+04</td>\n",
       "      <td>7.069900e+04</td>\n",
       "      <td>500.000000</td>\n",
       "      <td>500.000000</td>\n",
       "      <td>0.000000</td>\n",
       "      <td>15.690000</td>\n",
       "      <td>4.000000e+03</td>\n",
       "      <td>0.000000</td>\n",
       "      <td>0.000000</td>\n",
       "      <td>0.000000</td>\n",
       "      <td>...</td>\n",
       "      <td>NaN</td>\n",
       "      <td>NaN</td>\n",
       "      <td>NaN</td>\n",
       "      <td>NaN</td>\n",
       "      <td>0.000000</td>\n",
       "      <td>0.0</td>\n",
       "      <td>NaN</td>\n",
       "      <td>NaN</td>\n",
       "      <td>NaN</td>\n",
       "      <td>NaN</td>\n",
       "    </tr>\n",
       "    <tr>\n",
       "      <th>25%</th>\n",
       "      <td>5.162210e+05</td>\n",
       "      <td>6.667800e+05</td>\n",
       "      <td>5500.000000</td>\n",
       "      <td>5400.000000</td>\n",
       "      <td>5000.000000</td>\n",
       "      <td>167.020000</td>\n",
       "      <td>4.040400e+04</td>\n",
       "      <td>8.170000</td>\n",
       "      <td>0.000000</td>\n",
       "      <td>0.000000</td>\n",
       "      <td>...</td>\n",
       "      <td>NaN</td>\n",
       "      <td>NaN</td>\n",
       "      <td>NaN</td>\n",
       "      <td>NaN</td>\n",
       "      <td>0.000000</td>\n",
       "      <td>0.0</td>\n",
       "      <td>NaN</td>\n",
       "      <td>NaN</td>\n",
       "      <td>NaN</td>\n",
       "      <td>NaN</td>\n",
       "    </tr>\n",
       "    <tr>\n",
       "      <th>50%</th>\n",
       "      <td>6.656650e+05</td>\n",
       "      <td>8.508120e+05</td>\n",
       "      <td>10000.000000</td>\n",
       "      <td>9600.000000</td>\n",
       "      <td>8975.000000</td>\n",
       "      <td>280.220000</td>\n",
       "      <td>5.900000e+04</td>\n",
       "      <td>13.400000</td>\n",
       "      <td>0.000000</td>\n",
       "      <td>1.000000</td>\n",
       "      <td>...</td>\n",
       "      <td>NaN</td>\n",
       "      <td>NaN</td>\n",
       "      <td>NaN</td>\n",
       "      <td>NaN</td>\n",
       "      <td>0.000000</td>\n",
       "      <td>0.0</td>\n",
       "      <td>NaN</td>\n",
       "      <td>NaN</td>\n",
       "      <td>NaN</td>\n",
       "      <td>NaN</td>\n",
       "    </tr>\n",
       "    <tr>\n",
       "      <th>75%</th>\n",
       "      <td>8.377550e+05</td>\n",
       "      <td>1.047339e+06</td>\n",
       "      <td>15000.000000</td>\n",
       "      <td>15000.000000</td>\n",
       "      <td>14400.000000</td>\n",
       "      <td>430.780000</td>\n",
       "      <td>8.230000e+04</td>\n",
       "      <td>18.600000</td>\n",
       "      <td>0.000000</td>\n",
       "      <td>1.000000</td>\n",
       "      <td>...</td>\n",
       "      <td>NaN</td>\n",
       "      <td>NaN</td>\n",
       "      <td>NaN</td>\n",
       "      <td>NaN</td>\n",
       "      <td>0.000000</td>\n",
       "      <td>0.0</td>\n",
       "      <td>NaN</td>\n",
       "      <td>NaN</td>\n",
       "      <td>NaN</td>\n",
       "      <td>NaN</td>\n",
       "    </tr>\n",
       "    <tr>\n",
       "      <th>max</th>\n",
       "      <td>1.077501e+06</td>\n",
       "      <td>1.314167e+06</td>\n",
       "      <td>35000.000000</td>\n",
       "      <td>35000.000000</td>\n",
       "      <td>35000.000000</td>\n",
       "      <td>1305.190000</td>\n",
       "      <td>6.000000e+06</td>\n",
       "      <td>29.990000</td>\n",
       "      <td>11.000000</td>\n",
       "      <td>8.000000</td>\n",
       "      <td>...</td>\n",
       "      <td>NaN</td>\n",
       "      <td>NaN</td>\n",
       "      <td>NaN</td>\n",
       "      <td>NaN</td>\n",
       "      <td>2.000000</td>\n",
       "      <td>0.0</td>\n",
       "      <td>NaN</td>\n",
       "      <td>NaN</td>\n",
       "      <td>NaN</td>\n",
       "      <td>NaN</td>\n",
       "    </tr>\n",
       "  </tbody>\n",
       "</table>\n",
       "<p>8 rows × 87 columns</p>\n",
       "</div>"
      ],
      "text/plain": [
       "                 id     member_id     loan_amnt   funded_amnt  \\\n",
       "count  3.971700e+04  3.971700e+04  39717.000000  39717.000000   \n",
       "mean   6.831319e+05  8.504636e+05  11219.443815  10947.713196   \n",
       "std    2.106941e+05  2.656783e+05   7456.670694   7187.238670   \n",
       "min    5.473400e+04  7.069900e+04    500.000000    500.000000   \n",
       "25%    5.162210e+05  6.667800e+05   5500.000000   5400.000000   \n",
       "50%    6.656650e+05  8.508120e+05  10000.000000   9600.000000   \n",
       "75%    8.377550e+05  1.047339e+06  15000.000000  15000.000000   \n",
       "max    1.077501e+06  1.314167e+06  35000.000000  35000.000000   \n",
       "\n",
       "       funded_amnt_inv   installment    annual_inc           dti  \\\n",
       "count     39717.000000  39717.000000  3.971700e+04  39717.000000   \n",
       "mean      10397.448868    324.561922  6.896893e+04     13.315130   \n",
       "std        7128.450439    208.874874  6.379377e+04      6.678594   \n",
       "min           0.000000     15.690000  4.000000e+03      0.000000   \n",
       "25%        5000.000000    167.020000  4.040400e+04      8.170000   \n",
       "50%        8975.000000    280.220000  5.900000e+04     13.400000   \n",
       "75%       14400.000000    430.780000  8.230000e+04     18.600000   \n",
       "max       35000.000000   1305.190000  6.000000e+06     29.990000   \n",
       "\n",
       "        delinq_2yrs  inq_last_6mths  ...  num_tl_90g_dpd_24m  \\\n",
       "count  39717.000000    39717.000000  ...                 0.0   \n",
       "mean       0.146512        0.869200  ...                 NaN   \n",
       "std        0.491812        1.070219  ...                 NaN   \n",
       "min        0.000000        0.000000  ...                 NaN   \n",
       "25%        0.000000        0.000000  ...                 NaN   \n",
       "50%        0.000000        1.000000  ...                 NaN   \n",
       "75%        0.000000        1.000000  ...                 NaN   \n",
       "max       11.000000        8.000000  ...                 NaN   \n",
       "\n",
       "       num_tl_op_past_12m  pct_tl_nvr_dlq  percent_bc_gt_75  \\\n",
       "count                 0.0             0.0               0.0   \n",
       "mean                  NaN             NaN               NaN   \n",
       "std                   NaN             NaN               NaN   \n",
       "min                   NaN             NaN               NaN   \n",
       "25%                   NaN             NaN               NaN   \n",
       "50%                   NaN             NaN               NaN   \n",
       "75%                   NaN             NaN               NaN   \n",
       "max                   NaN             NaN               NaN   \n",
       "\n",
       "       pub_rec_bankruptcies  tax_liens  tot_hi_cred_lim  total_bal_ex_mort  \\\n",
       "count          39020.000000    39678.0              0.0                0.0   \n",
       "mean               0.043260        0.0              NaN                NaN   \n",
       "std                0.204324        0.0              NaN                NaN   \n",
       "min                0.000000        0.0              NaN                NaN   \n",
       "25%                0.000000        0.0              NaN                NaN   \n",
       "50%                0.000000        0.0              NaN                NaN   \n",
       "75%                0.000000        0.0              NaN                NaN   \n",
       "max                2.000000        0.0              NaN                NaN   \n",
       "\n",
       "       total_bc_limit  total_il_high_credit_limit  \n",
       "count             0.0                         0.0  \n",
       "mean              NaN                         NaN  \n",
       "std               NaN                         NaN  \n",
       "min               NaN                         NaN  \n",
       "25%               NaN                         NaN  \n",
       "50%               NaN                         NaN  \n",
       "75%               NaN                         NaN  \n",
       "max               NaN                         NaN  \n",
       "\n",
       "[8 rows x 87 columns]"
      ]
     },
     "execution_count": 5,
     "metadata": {},
     "output_type": "execute_result"
    }
   ],
   "source": [
    "loan.describe()"
   ]
  },
  {
   "cell_type": "markdown",
   "metadata": {},
   "source": [
    "### Data Cleaning"
   ]
  },
  {
   "cell_type": "markdown",
   "metadata": {},
   "source": [
    "% missing values in dataset"
   ]
  },
  {
   "cell_type": "code",
   "execution_count": 6,
   "metadata": {},
   "outputs": [
    {
     "data": {
      "text/plain": [
       "emp_title                       6.19\n",
       "emp_length                      2.71\n",
       "desc                           32.58\n",
       "title                           0.03\n",
       "mths_since_last_delinq         64.66\n",
       "                               ...  \n",
       "tax_liens                       0.10\n",
       "tot_hi_cred_lim               100.00\n",
       "total_bal_ex_mort             100.00\n",
       "total_bc_limit                100.00\n",
       "total_il_high_credit_limit    100.00\n",
       "Length: 68, dtype: float64"
      ]
     },
     "execution_count": 6,
     "metadata": {},
     "output_type": "execute_result"
    }
   ],
   "source": [
    "data_missing = (round(100*(loan.isnull().sum(axis = 0)/loan.shape[0]), 2))\n",
    "data_missing[data_missing > 0]"
   ]
  },
  {
   "cell_type": "markdown",
   "metadata": {},
   "source": [
    "From above table, for some of column have 100% missing values so these columns will be removed"
   ]
  },
  {
   "cell_type": "code",
   "execution_count": 7,
   "metadata": {},
   "outputs": [
    {
     "data": {
      "text/plain": [
       "(58,)"
      ]
     },
     "execution_count": 7,
     "metadata": {},
     "output_type": "execute_result"
    }
   ],
   "source": [
    "# total number of columns having more than 80% of missing values\n",
    "colums_missing_30 = data_missing[data_missing >= 30]\n",
    "colums_missing_30.shape"
   ]
  },
  {
   "cell_type": "code",
   "execution_count": 8,
   "metadata": {},
   "outputs": [],
   "source": [
    "# saving in a list for dropping the missing values\n",
    "colums_missing_30 = list(colums_missing_30.index)"
   ]
  },
  {
   "cell_type": "code",
   "execution_count": 9,
   "metadata": {},
   "outputs": [],
   "source": [
    "loan.drop(labels = colums_missing_30, axis = 1, inplace = True )"
   ]
  },
  {
   "cell_type": "code",
   "execution_count": 10,
   "metadata": {},
   "outputs": [
    {
     "data": {
      "text/plain": [
       "(39717, 53)"
      ]
     },
     "execution_count": 10,
     "metadata": {},
     "output_type": "execute_result"
    }
   ],
   "source": [
    "loan.shape"
   ]
  },
  {
   "cell_type": "code",
   "execution_count": 11,
   "metadata": {},
   "outputs": [
    {
     "data": {
      "text/plain": [
       "emp_title                     6.19\n",
       "emp_length                    2.71\n",
       "title                         0.03\n",
       "revol_util                    0.13\n",
       "last_pymnt_d                  0.18\n",
       "last_credit_pull_d            0.01\n",
       "collections_12_mths_ex_med    0.14\n",
       "chargeoff_within_12_mths      0.14\n",
       "pub_rec_bankruptcies          1.75\n",
       "tax_liens                     0.10\n",
       "dtype: float64"
      ]
     },
     "execution_count": 11,
     "metadata": {},
     "output_type": "execute_result"
    }
   ],
   "source": [
    "data_missing = (round(100*(loan.isnull().sum(axis = 0)/loan.shape[0]), 2))\n",
    "data_missing[data_missing > 0]"
   ]
  },
  {
   "cell_type": "code",
   "execution_count": 12,
   "metadata": {},
   "outputs": [],
   "source": [
    "data_missing_1 = list(data_missing[data_missing > 0].index)"
   ]
  },
  {
   "cell_type": "markdown",
   "metadata": {},
   "source": [
    "As some minor % data is missing form 39717 rows and emol_title and empl_length is not affecting our analyis significanty, we can remove the missing values and make dataset clean."
   ]
  },
  {
   "cell_type": "code",
   "execution_count": 13,
   "metadata": {},
   "outputs": [],
   "source": [
    "loan = loan[~(loan[data_missing_1[0]].isnull())]\n",
    "loan = loan[~(loan[data_missing_1[1]].isnull())]\n",
    "loan = loan[~(loan[data_missing_1[2]].isnull())]\n",
    "loan = loan[~(loan[data_missing_1[3]].isnull())]\n",
    "loan = loan[~(loan[data_missing_1[4]].isnull())]\n",
    "loan = loan[~(loan[data_missing_1[5]].isnull())]\n",
    "loan = loan[~(loan[data_missing_1[6]].isnull())]\n",
    "loan = loan[~(loan[data_missing_1[7]].isnull())]\n",
    "loan = loan[~(loan[data_missing_1[8]].isnull())]\n",
    "loan = loan[~(loan[data_missing_1[9]].isnull())]"
   ]
  },
  {
   "cell_type": "code",
   "execution_count": 14,
   "metadata": {},
   "outputs": [
    {
     "name": "stdout",
     "output_type": "stream",
     "text": [
      "so now we have clean dataset to analysis further for business objective\n"
     ]
    }
   ],
   "source": [
    "data_missing = (round(100*(loan.isnull().sum(axis = 0)/loan.shape[0]), 2))\n",
    "data_missing[data_missing > 0]\n",
    "print(\"so now we have clean dataset to analysis further for business objective\")"
   ]
  },
  {
   "cell_type": "markdown",
   "metadata": {},
   "source": [
    "checking the unique data present in categorical variables also variation in variables in dataset which will help in future while analysis."
   ]
  },
  {
   "cell_type": "code",
   "execution_count": 15,
   "metadata": {},
   "outputs": [
    {
     "data": {
      "text/plain": [
       "0.0    34931\n",
       "1.0     1493\n",
       "2.0        7\n",
       "Name: pub_rec_bankruptcies, dtype: int64"
      ]
     },
     "execution_count": 15,
     "metadata": {},
     "output_type": "execute_result"
    }
   ],
   "source": [
    "# From initial eyeballing \"pub_rec_bankruptcies\" seems important variable but very few cases are avalable with it\n",
    "loan.pub_rec_bankruptcies.value_counts()"
   ]
  },
  {
   "cell_type": "code",
   "execution_count": 16,
   "metadata": {},
   "outputs": [
    {
     "data": {
      "text/plain": [
       "100xx    540\n",
       "945xx    508\n",
       "112xx    480\n",
       "606xx    477\n",
       "070xx    440\n",
       "        ... \n",
       "673xx      1\n",
       "040xx      1\n",
       "831xx      1\n",
       "414xx      1\n",
       "463xx      1\n",
       "Name: zip_code, Length: 805, dtype: int64"
      ]
     },
     "execution_count": 16,
     "metadata": {},
     "output_type": "execute_result"
    }
   ],
   "source": [
    "# with zip code, its difficult to conclude anything as it is not correct \n",
    "loan.zip_code.value_counts()"
   ]
  },
  {
   "cell_type": "code",
   "execution_count": 17,
   "metadata": {},
   "outputs": [
    {
     "data": {
      "text/plain": [
       "1    36431\n",
       "Name: policy_code, dtype: int64"
      ]
     },
     "execution_count": 17,
     "metadata": {},
     "output_type": "execute_result"
    }
   ],
   "source": [
    "# For all, policy code is 1 so its not meaningfull \n",
    "loan.policy_code.value_counts()"
   ]
  },
  {
   "cell_type": "code",
   "execution_count": 18,
   "metadata": {},
   "outputs": [
    {
     "data": {
      "text/plain": [
       "count          36431\n",
       "unique             2\n",
       "top        36 months\n",
       "freq           26375\n",
       "Name: term, dtype: object"
      ]
     },
     "execution_count": 18,
     "metadata": {},
     "output_type": "execute_result"
    }
   ],
   "source": [
    "# as only two loan terms are present in dataset and it will not contribute much for analysis\n",
    "loan.term.describe()"
   ]
  },
  {
   "cell_type": "code",
   "execution_count": 19,
   "metadata": {
    "tags": []
   },
   "outputs": [
    {
     "data": {
      "text/plain": [
       "311.11    65\n",
       "311.02    53\n",
       "180.96    52\n",
       "150.80    43\n",
       "368.45    43\n",
       "          ..\n",
       "584.32     1\n",
       "336.53     1\n",
       "863.42     1\n",
       "615.09     1\n",
       "595.76     1\n",
       "Name: installment, Length: 14365, dtype: int64"
      ]
     },
     "execution_count": 19,
     "metadata": {},
     "output_type": "execute_result"
    }
   ],
   "source": [
    "#\n",
    "loan.installment.value_counts()"
   ]
  },
  {
   "cell_type": "code",
   "execution_count": 20,
   "metadata": {},
   "outputs": [
    {
     "data": {
      "text/plain": [
       "count       36431\n",
       "unique      28205\n",
       "top       US Army\n",
       "freq          131\n",
       "Name: emp_title, dtype: object"
      ]
     },
     "execution_count": 20,
     "metadata": {},
     "output_type": "execute_result"
    }
   ],
   "source": [
    "# title of employee\n",
    "loan.emp_title.describe()"
   ]
  },
  {
   "cell_type": "code",
   "execution_count": 21,
   "metadata": {},
   "outputs": [
    {
     "data": {
      "text/plain": [
       "count         36431\n",
       "unique           11\n",
       "top       10+ years\n",
       "freq           8407\n",
       "Name: emp_length, dtype: object"
      ]
     },
     "execution_count": 21,
     "metadata": {},
     "output_type": "execute_result"
    }
   ],
   "source": [
    "# employee length in years\n",
    "loan.emp_length.describe()"
   ]
  },
  {
   "cell_type": "code",
   "execution_count": 22,
   "metadata": {},
   "outputs": [
    {
     "data": {
      "text/plain": [
       "0     32484\n",
       "1      3028\n",
       "2       628\n",
       "3       197\n",
       "4        55\n",
       "5        21\n",
       "6        10\n",
       "7         4\n",
       "8         2\n",
       "11        1\n",
       "9         1\n",
       "Name: delinq_2yrs, dtype: int64"
      ]
     },
     "execution_count": 22,
     "metadata": {},
     "output_type": "execute_result"
    }
   ],
   "source": [
    "loan.delinq_2yrs.value_counts()"
   ]
  },
  {
   "cell_type": "code",
   "execution_count": 23,
   "metadata": {},
   "outputs": [
    {
     "data": {
      "text/plain": [
       "count    36431.000000\n",
       "mean     12311.226392\n",
       "std       9048.552965\n",
       "min         33.730000\n",
       "25%       5672.634184\n",
       "50%      10101.589360\n",
       "75%      16700.865405\n",
       "max      58563.679930\n",
       "Name: total_pymnt, dtype: float64"
      ]
     },
     "execution_count": 23,
     "metadata": {},
     "output_type": "execute_result"
    }
   ],
   "source": [
    "# total payment\n",
    "loan.total_pymnt.describe()"
   ]
  },
  {
   "cell_type": "code",
   "execution_count": 24,
   "metadata": {
    "tags": []
   },
   "outputs": [
    {
     "data": {
      "text/plain": [
       "Dec-11    2126\n",
       "Nov-11    2048\n",
       "Oct-11    1951\n",
       "Sep-11    1925\n",
       "Aug-11    1810\n",
       "Jul-11    1732\n",
       "Jun-11    1702\n",
       "May-11    1575\n",
       "Apr-11    1463\n",
       "Mar-11    1339\n",
       "Jan-11    1299\n",
       "Feb-11    1186\n",
       "Dec-10    1174\n",
       "Nov-10    1064\n",
       "Jul-10    1062\n",
       "Oct-10    1046\n",
       "Sep-10    1030\n",
       "Aug-10    1030\n",
       "Jun-10     965\n",
       "May-10     870\n",
       "Apr-10     786\n",
       "Mar-10     678\n",
       "Feb-10     575\n",
       "Nov-09     534\n",
       "Jan-10     515\n",
       "Dec-09     513\n",
       "Oct-09     506\n",
       "Sep-09     437\n",
       "Aug-09     398\n",
       "Jul-09     361\n",
       "Jun-09     341\n",
       "May-09     307\n",
       "Apr-09     278\n",
       "Mar-09     267\n",
       "Feb-09     253\n",
       "Jan-09     228\n",
       "Dec-08     214\n",
       "Nov-08     175\n",
       "Apr-08     145\n",
       "Mar-08     112\n",
       "Oct-08      93\n",
       "Jul-08      77\n",
       "May-08      69\n",
       "Aug-08      66\n",
       "Jun-08      61\n",
       "Sep-08      29\n",
       "Jan-08       6\n",
       "Feb-08       6\n",
       "Dec-07       2\n",
       "Nov-07       1\n",
       "Oct-07       1\n",
       "Name: issue_d, dtype: int64"
      ]
     },
     "execution_count": 24,
     "metadata": {},
     "output_type": "execute_result"
    }
   ],
   "source": [
    "# loan issue dates\n",
    "loan.issue_d.value_counts()"
   ]
  },
  {
   "cell_type": "code",
   "execution_count": 25,
   "metadata": {},
   "outputs": [
    {
     "data": {
      "text/plain": [
       "0    17729\n",
       "1    10065\n",
       "2     5362\n",
       "3     2761\n",
       "4      290\n",
       "5      125\n",
       "6       55\n",
       "7       32\n",
       "8       12\n",
       "Name: inq_last_6mths, dtype: int64"
      ]
     },
     "execution_count": 25,
     "metadata": {},
     "output_type": "execute_result"
    }
   ],
   "source": [
    "loan.inq_last_6mths.value_counts()"
   ]
  },
  {
   "cell_type": "markdown",
   "metadata": {},
   "source": [
    "#### from getting some information online on \"Risk analytics\" in loan business and examining excel dataset, below variables are potentially usefull in deciding risky applicants."
   ]
  },
  {
   "cell_type": "code",
   "execution_count": 26,
   "metadata": {
    "tags": []
   },
   "outputs": [],
   "source": [
    "## creating the loan_final dataframe form loan\n",
    "\n",
    "loan_final = loan.loc[:,['loan_amnt','int_rate', 'installment', 'grade', 'sub_grade', 'emp_title',\n",
    "       'emp_length', 'home_ownership', 'annual_inc', 'verification_status',\n",
    "       'issue_d', 'loan_status', 'inq_last_6mths', 'purpose',\n",
    "        'dti', \"delinq_2yrs\", \"pub_rec\", \"term\"]]"
   ]
  },
  {
   "cell_type": "markdown",
   "metadata": {},
   "source": [
    "Updating the current datatypes in \"loan_final\" dataframe for numerical and categorical variable"
   ]
  },
  {
   "cell_type": "code",
   "execution_count": 27,
   "metadata": {},
   "outputs": [
    {
     "name": "stdout",
     "output_type": "stream",
     "text": [
      "<class 'pandas.core.frame.DataFrame'>\n",
      "Int64Index: 36431 entries, 1 to 39623\n",
      "Data columns (total 18 columns):\n",
      " #   Column               Non-Null Count  Dtype  \n",
      "---  ------               --------------  -----  \n",
      " 0   loan_amnt            36431 non-null  int64  \n",
      " 1   int_rate             36431 non-null  object \n",
      " 2   installment          36431 non-null  float64\n",
      " 3   grade                36431 non-null  object \n",
      " 4   sub_grade            36431 non-null  object \n",
      " 5   emp_title            36431 non-null  object \n",
      " 6   emp_length           36431 non-null  object \n",
      " 7   home_ownership       36431 non-null  object \n",
      " 8   annual_inc           36431 non-null  float64\n",
      " 9   verification_status  36431 non-null  object \n",
      " 10  issue_d              36431 non-null  object \n",
      " 11  loan_status          36431 non-null  object \n",
      " 12  inq_last_6mths       36431 non-null  int64  \n",
      " 13  purpose              36431 non-null  object \n",
      " 14  dti                  36431 non-null  float64\n",
      " 15  delinq_2yrs          36431 non-null  int64  \n",
      " 16  pub_rec              36431 non-null  int64  \n",
      " 17  term                 36431 non-null  object \n",
      "dtypes: float64(3), int64(4), object(11)\n",
      "memory usage: 5.3+ MB\n"
     ]
    }
   ],
   "source": [
    "loan_final.info()"
   ]
  },
  {
   "cell_type": "code",
   "execution_count": 28,
   "metadata": {},
   "outputs": [],
   "source": [
    "## Updating the \"int_rate\" type in dataset by removing % \n",
    "loan_final.loc[:, \"int_rate\"] = loan_final[\"int_rate\"].apply(lambda x : float(x[: -1]))"
   ]
  },
  {
   "cell_type": "code",
   "execution_count": 29,
   "metadata": {},
   "outputs": [],
   "source": [
    "#creating a new column employee length as numerical variable as per below table\n",
    "\n",
    "#            years\n",
    "#10+ years    10.5\n",
    "#2 years      2.0\n",
    "#< 1 year     0.5\n",
    "#3 years      3.0\n",
    "#4 years      4.0\n",
    "#5 years      5.0\n",
    "#1 year       1.0\n",
    "#6 years      6.0\n",
    "#7 years      7.0\n",
    "#8 years      8.0\n",
    "#9 years      9.0\n"
   ]
  },
  {
   "cell_type": "code",
   "execution_count": 30,
   "metadata": {},
   "outputs": [],
   "source": [
    "def convert(x):\n",
    "    switcher = {\n",
    "        \"10+ years\" : 10.5,\n",
    "        \"9 years\" : 9,\n",
    "        \"8 years\" : 8,\n",
    "        \"7 years\" :7,\n",
    "        \"6 years\" :6,\n",
    "        \"5 years\" :5,\n",
    "        \"4 years\" :4,\n",
    "        \"3 years\" :3,\n",
    "        \"2 years\" :2,\n",
    "        \"1 years\" :1,\n",
    "        \"< 1 year\" : 0.5,\n",
    "    }\n",
    "    return switcher.get(x, 0)\n",
    "\n",
    "loan_final.loc[:, \"emp_length_num\"] =  loan_final.loc[:, \"emp_length\"].apply(lambda x : convert(x)) "
   ]
  },
  {
   "cell_type": "code",
   "execution_count": 31,
   "metadata": {},
   "outputs": [],
   "source": [
    "# adding a count column in dataset so it can be used in calculating percentages\n",
    "loan_final[\"count\"] = 1"
   ]
  },
  {
   "cell_type": "code",
   "execution_count": 32,
   "metadata": {},
   "outputs": [],
   "source": [
    "## Adding a column in dataset,to convert \"Loan status\" categorical variable in numerical type\n",
    "loan_final[\"loan_status_num\"] = loan_final.loan_status.apply(lambda x : 0 if x == \"Charged Off\" else 1)"
   ]
  },
  {
   "cell_type": "code",
   "execution_count": 33,
   "metadata": {
    "tags": []
   },
   "outputs": [],
   "source": [
    "## \"Current\" loan status in dataset\n",
    "#\"Current\" loan status will not help in analysing as its not clear that they will charged off or full paid customers.\n",
    "# so removing the \"Current\" in the dataset\n",
    "loan_final = loan_final[~(loan_final.loan_status == \"Current\")]"
   ]
  },
  {
   "cell_type": "code",
   "execution_count": 34,
   "metadata": {},
   "outputs": [
    {
     "name": "stdout",
     "output_type": "stream",
     "text": [
      "<class 'pandas.core.frame.DataFrame'>\n",
      "Int64Index: 35365 entries, 1 to 39623\n",
      "Data columns (total 21 columns):\n",
      " #   Column               Non-Null Count  Dtype  \n",
      "---  ------               --------------  -----  \n",
      " 0   loan_amnt            35365 non-null  int64  \n",
      " 1   int_rate             35365 non-null  float64\n",
      " 2   installment          35365 non-null  float64\n",
      " 3   grade                35365 non-null  object \n",
      " 4   sub_grade            35365 non-null  object \n",
      " 5   emp_title            35365 non-null  object \n",
      " 6   emp_length           35365 non-null  object \n",
      " 7   home_ownership       35365 non-null  object \n",
      " 8   annual_inc           35365 non-null  float64\n",
      " 9   verification_status  35365 non-null  object \n",
      " 10  issue_d              35365 non-null  object \n",
      " 11  loan_status          35365 non-null  object \n",
      " 12  inq_last_6mths       35365 non-null  int64  \n",
      " 13  purpose              35365 non-null  object \n",
      " 14  dti                  35365 non-null  float64\n",
      " 15  delinq_2yrs          35365 non-null  int64  \n",
      " 16  pub_rec              35365 non-null  int64  \n",
      " 17  term                 35365 non-null  object \n",
      " 18  emp_length_num       35365 non-null  float64\n",
      " 19  count                35365 non-null  int64  \n",
      " 20  loan_status_num      35365 non-null  int64  \n",
      "dtypes: float64(5), int64(6), object(10)\n",
      "memory usage: 5.9+ MB\n"
     ]
    }
   ],
   "source": [
    "loan_final.info()"
   ]
  },
  {
   "cell_type": "code",
   "execution_count": 35,
   "metadata": {},
   "outputs": [],
   "source": [
    "## saving final dataset reference and backup\n",
    "loan_final.to_csv('loan_final.csv', encoding='palmos', index=False)"
   ]
  },
  {
   "cell_type": "markdown",
   "metadata": {},
   "source": [
    "# Data Analysis"
   ]
  },
  {
   "cell_type": "markdown",
   "metadata": {},
   "source": [
    "### Univariate analysis for categorical variables"
   ]
  },
  {
   "cell_type": "code",
   "execution_count": 36,
   "metadata": {},
   "outputs": [
    {
     "data": {
      "text/plain": [
       "loan_status\n",
       "Charged Off     4942\n",
       "Fully Paid     30423\n",
       "Name: count, dtype: int64"
      ]
     },
     "execution_count": 36,
     "metadata": {},
     "output_type": "execute_result"
    }
   ],
   "source": [
    "## Total %number of loan paid and charged off in given dataset\n",
    "total_perc_status = loan_final.groupby(\"loan_status\")[\"count\"].sum()\n",
    "total_perc_status"
   ]
  },
  {
   "cell_type": "code",
   "execution_count": 37,
   "metadata": {},
   "outputs": [
    {
     "data": {
      "image/png": "[encoded data removed]",
      "text/plain": [
       "<Figure size 432x432 with 1 Axes>"
      ]
     },
     "metadata": {},
     "output_type": "display_data"
    }
   ],
   "source": [
    "plt.style.use(\"ggplot\")\n",
    "plt.figure(figsize = (6, 6))\n",
    "plt.pie(total_perc_status,labels = [\"Charged Off\", \"Fully Paid\"], autopct='%1.0f%%', textprops={'fontsize': 12})\n",
    "plt.title(\"Distribution of loan status\")\n",
    "plt.show()"
   ]
  },
  {
   "cell_type": "markdown",
   "metadata": {},
   "source": [
    " "
   ]
  },
  {
   "cell_type": "code",
   "execution_count": 38,
   "metadata": {},
   "outputs": [],
   "source": [
    "## Adding column with assigning boolean values for \"Fully Paid\" = True and \"Charged off\" = False\n",
    "loan_final[\"loan_status_bool\"] = loan_final.loan_status == \"Charged Off\""
   ]
  },
  {
   "cell_type": "code",
   "execution_count": 39,
   "metadata": {
    "jupyter": {
     "outputs_hidden": true
    },
    "tags": []
   },
   "outputs": [
    {
     "data": {
      "text/html": [
       "<div>\n",
       "<style scoped>\n",
       "    .dataframe tbody tr th:only-of-type {\n",
       "        vertical-align: middle;\n",
       "    }\n",
       "\n",
       "    .dataframe tbody tr th {\n",
       "        vertical-align: top;\n",
       "    }\n",
       "\n",
       "    .dataframe thead th {\n",
       "        text-align: right;\n",
       "    }\n",
       "</style>\n",
       "<table border=\"1\" class=\"dataframe\">\n",
       "  <thead>\n",
       "    <tr style=\"text-align: right;\">\n",
       "      <th></th>\n",
       "      <th>grade</th>\n",
       "      <th>loan_status_bool</th>\n",
       "      <th>count</th>\n",
       "      <th>% Charged off</th>\n",
       "    </tr>\n",
       "  </thead>\n",
       "  <tbody>\n",
       "    <tr>\n",
       "      <th>0</th>\n",
       "      <td>A</td>\n",
       "      <td>513</td>\n",
       "      <td>9140</td>\n",
       "      <td>5.612691</td>\n",
       "    </tr>\n",
       "    <tr>\n",
       "      <th>1</th>\n",
       "      <td>B</td>\n",
       "      <td>1253</td>\n",
       "      <td>10718</td>\n",
       "      <td>11.690614</td>\n",
       "    </tr>\n",
       "    <tr>\n",
       "      <th>2</th>\n",
       "      <td>C</td>\n",
       "      <td>1169</td>\n",
       "      <td>7180</td>\n",
       "      <td>16.281337</td>\n",
       "    </tr>\n",
       "    <tr>\n",
       "      <th>3</th>\n",
       "      <td>D</td>\n",
       "      <td>980</td>\n",
       "      <td>4662</td>\n",
       "      <td>21.021021</td>\n",
       "    </tr>\n",
       "    <tr>\n",
       "      <th>4</th>\n",
       "      <td>E</td>\n",
       "      <td>648</td>\n",
       "      <td>2481</td>\n",
       "      <td>26.118501</td>\n",
       "    </tr>\n",
       "    <tr>\n",
       "      <th>5</th>\n",
       "      <td>F</td>\n",
       "      <td>286</td>\n",
       "      <td>902</td>\n",
       "      <td>31.707317</td>\n",
       "    </tr>\n",
       "    <tr>\n",
       "      <th>6</th>\n",
       "      <td>G</td>\n",
       "      <td>93</td>\n",
       "      <td>282</td>\n",
       "      <td>32.978723</td>\n",
       "    </tr>\n",
       "  </tbody>\n",
       "</table>\n",
       "</div>"
      ],
      "text/plain": [
       "  grade  loan_status_bool  count  % Charged off\n",
       "0     A               513   9140       5.612691\n",
       "1     B              1253  10718      11.690614\n",
       "2     C              1169   7180      16.281337\n",
       "3     D               980   4662      21.021021\n",
       "4     E               648   2481      26.118501\n",
       "5     F               286    902      31.707317\n",
       "6     G                93    282      32.978723"
      ]
     },
     "execution_count": 39,
     "metadata": {},
     "output_type": "execute_result"
    }
   ],
   "source": [
    "## Understanding the %charged off for \"grade\" column\n",
    "\n",
    "#create a groubby dataframe for gb_grade\n",
    "gb_grade = loan_final.groupby(\"grade\")\n",
    "# create two dataset for calculating %\n",
    "Charged_off_count = gb_grade[\"loan_status_bool\"].sum()\n",
    "total_count = gb_grade[\"count\"].sum()\n",
    "grade = pd.merge(Charged_off_count, total_count, how='inner', on='grade')\n",
    "grade[\"% Charged off\"] = (grade[\"loan_status_bool\"] / grade[\"count\"]) * 100\n",
    "grade.reset_index(inplace=True)\n",
    "grade"
   ]
  },
  {
   "cell_type": "code",
   "execution_count": 40,
   "metadata": {},
   "outputs": [
    {
     "data": {
      "image/png": "[encoded data removed]",
      "text/plain": [
       "<Figure size 720x360 with 1 Axes>"
      ]
     },
     "metadata": {},
     "output_type": "display_data"
    }
   ],
   "source": [
    "sns.set(style=\"whitegrid\")\n",
    "plt.figure(figsize = (10, 5))\n",
    "sns.barplot(data = grade, x = \"grade\", y = \"% Charged off\")\n",
    "plt.title(\"% Charged off w.r.t grade\")\n",
    "plt.show()"
   ]
  },
  {
   "cell_type": "markdown",
   "metadata": {},
   "source": [
    "Observation: different grade shows relationship between %charged off loans as grade increases %charge off is increasing"
   ]
  },
  {
   "cell_type": "markdown",
   "metadata": {},
   "source": [
    " "
   ]
  },
  {
   "cell_type": "code",
   "execution_count": 41,
   "metadata": {
    "jupyter": {
     "outputs_hidden": true
    },
    "tags": []
   },
   "outputs": [
    {
     "data": {
      "text/html": [
       "<div>\n",
       "<style scoped>\n",
       "    .dataframe tbody tr th:only-of-type {\n",
       "        vertical-align: middle;\n",
       "    }\n",
       "\n",
       "    .dataframe tbody tr th {\n",
       "        vertical-align: top;\n",
       "    }\n",
       "\n",
       "    .dataframe thead th {\n",
       "        text-align: right;\n",
       "    }\n",
       "</style>\n",
       "<table border=\"1\" class=\"dataframe\">\n",
       "  <thead>\n",
       "    <tr style=\"text-align: right;\">\n",
       "      <th></th>\n",
       "      <th>sub_grade</th>\n",
       "      <th>loan_status_bool</th>\n",
       "      <th>count</th>\n",
       "      <th>% Charged off</th>\n",
       "    </tr>\n",
       "  </thead>\n",
       "  <tbody>\n",
       "    <tr>\n",
       "      <th>0</th>\n",
       "      <td>A1</td>\n",
       "      <td>23</td>\n",
       "      <td>1005</td>\n",
       "      <td>2.288557</td>\n",
       "    </tr>\n",
       "    <tr>\n",
       "      <th>1</th>\n",
       "      <td>A2</td>\n",
       "      <td>63</td>\n",
       "      <td>1356</td>\n",
       "      <td>4.646018</td>\n",
       "    </tr>\n",
       "    <tr>\n",
       "      <th>2</th>\n",
       "      <td>A3</td>\n",
       "      <td>80</td>\n",
       "      <td>1630</td>\n",
       "      <td>4.907975</td>\n",
       "    </tr>\n",
       "    <tr>\n",
       "      <th>3</th>\n",
       "      <td>A4</td>\n",
       "      <td>158</td>\n",
       "      <td>2662</td>\n",
       "      <td>5.935387</td>\n",
       "    </tr>\n",
       "    <tr>\n",
       "      <th>4</th>\n",
       "      <td>A5</td>\n",
       "      <td>189</td>\n",
       "      <td>2487</td>\n",
       "      <td>7.599517</td>\n",
       "    </tr>\n",
       "    <tr>\n",
       "      <th>5</th>\n",
       "      <td>B1</td>\n",
       "      <td>141</td>\n",
       "      <td>1613</td>\n",
       "      <td>8.741476</td>\n",
       "    </tr>\n",
       "    <tr>\n",
       "      <th>6</th>\n",
       "      <td>B2</td>\n",
       "      <td>191</td>\n",
       "      <td>1825</td>\n",
       "      <td>10.465753</td>\n",
       "    </tr>\n",
       "    <tr>\n",
       "      <th>7</th>\n",
       "      <td>B3</td>\n",
       "      <td>307</td>\n",
       "      <td>2589</td>\n",
       "      <td>11.857860</td>\n",
       "    </tr>\n",
       "    <tr>\n",
       "      <th>8</th>\n",
       "      <td>B4</td>\n",
       "      <td>283</td>\n",
       "      <td>2247</td>\n",
       "      <td>12.594571</td>\n",
       "    </tr>\n",
       "    <tr>\n",
       "      <th>9</th>\n",
       "      <td>B5</td>\n",
       "      <td>331</td>\n",
       "      <td>2444</td>\n",
       "      <td>13.543372</td>\n",
       "    </tr>\n",
       "    <tr>\n",
       "      <th>10</th>\n",
       "      <td>C1</td>\n",
       "      <td>288</td>\n",
       "      <td>1874</td>\n",
       "      <td>15.368196</td>\n",
       "    </tr>\n",
       "    <tr>\n",
       "      <th>11</th>\n",
       "      <td>C2</td>\n",
       "      <td>282</td>\n",
       "      <td>1791</td>\n",
       "      <td>15.745394</td>\n",
       "    </tr>\n",
       "    <tr>\n",
       "      <th>12</th>\n",
       "      <td>C3</td>\n",
       "      <td>236</td>\n",
       "      <td>1369</td>\n",
       "      <td>17.238860</td>\n",
       "    </tr>\n",
       "    <tr>\n",
       "      <th>13</th>\n",
       "      <td>C4</td>\n",
       "      <td>182</td>\n",
       "      <td>1094</td>\n",
       "      <td>16.636197</td>\n",
       "    </tr>\n",
       "    <tr>\n",
       "      <th>14</th>\n",
       "      <td>C5</td>\n",
       "      <td>181</td>\n",
       "      <td>1052</td>\n",
       "      <td>17.205323</td>\n",
       "    </tr>\n",
       "    <tr>\n",
       "      <th>15</th>\n",
       "      <td>D1</td>\n",
       "      <td>141</td>\n",
       "      <td>845</td>\n",
       "      <td>16.686391</td>\n",
       "    </tr>\n",
       "    <tr>\n",
       "      <th>16</th>\n",
       "      <td>D2</td>\n",
       "      <td>236</td>\n",
       "      <td>1184</td>\n",
       "      <td>19.932432</td>\n",
       "    </tr>\n",
       "    <tr>\n",
       "      <th>17</th>\n",
       "      <td>D3</td>\n",
       "      <td>227</td>\n",
       "      <td>1022</td>\n",
       "      <td>22.211350</td>\n",
       "    </tr>\n",
       "    <tr>\n",
       "      <th>18</th>\n",
       "      <td>D4</td>\n",
       "      <td>192</td>\n",
       "      <td>848</td>\n",
       "      <td>22.641509</td>\n",
       "    </tr>\n",
       "    <tr>\n",
       "      <th>19</th>\n",
       "      <td>D5</td>\n",
       "      <td>184</td>\n",
       "      <td>763</td>\n",
       "      <td>24.115334</td>\n",
       "    </tr>\n",
       "    <tr>\n",
       "      <th>20</th>\n",
       "      <td>E1</td>\n",
       "      <td>185</td>\n",
       "      <td>691</td>\n",
       "      <td>26.772793</td>\n",
       "    </tr>\n",
       "    <tr>\n",
       "      <th>21</th>\n",
       "      <td>E2</td>\n",
       "      <td>147</td>\n",
       "      <td>566</td>\n",
       "      <td>25.971731</td>\n",
       "    </tr>\n",
       "    <tr>\n",
       "      <th>22</th>\n",
       "      <td>E3</td>\n",
       "      <td>105</td>\n",
       "      <td>482</td>\n",
       "      <td>21.784232</td>\n",
       "    </tr>\n",
       "    <tr>\n",
       "      <th>23</th>\n",
       "      <td>E4</td>\n",
       "      <td>115</td>\n",
       "      <td>394</td>\n",
       "      <td>29.187817</td>\n",
       "    </tr>\n",
       "    <tr>\n",
       "      <th>24</th>\n",
       "      <td>E5</td>\n",
       "      <td>96</td>\n",
       "      <td>348</td>\n",
       "      <td>27.586207</td>\n",
       "    </tr>\n",
       "    <tr>\n",
       "      <th>25</th>\n",
       "      <td>F1</td>\n",
       "      <td>84</td>\n",
       "      <td>293</td>\n",
       "      <td>28.668942</td>\n",
       "    </tr>\n",
       "    <tr>\n",
       "      <th>26</th>\n",
       "      <td>F2</td>\n",
       "      <td>63</td>\n",
       "      <td>214</td>\n",
       "      <td>29.439252</td>\n",
       "    </tr>\n",
       "    <tr>\n",
       "      <th>27</th>\n",
       "      <td>F3</td>\n",
       "      <td>45</td>\n",
       "      <td>160</td>\n",
       "      <td>28.125000</td>\n",
       "    </tr>\n",
       "    <tr>\n",
       "      <th>28</th>\n",
       "      <td>F4</td>\n",
       "      <td>48</td>\n",
       "      <td>136</td>\n",
       "      <td>35.294118</td>\n",
       "    </tr>\n",
       "    <tr>\n",
       "      <th>29</th>\n",
       "      <td>F5</td>\n",
       "      <td>46</td>\n",
       "      <td>99</td>\n",
       "      <td>46.464646</td>\n",
       "    </tr>\n",
       "    <tr>\n",
       "      <th>30</th>\n",
       "      <td>G1</td>\n",
       "      <td>26</td>\n",
       "      <td>88</td>\n",
       "      <td>29.545455</td>\n",
       "    </tr>\n",
       "    <tr>\n",
       "      <th>31</th>\n",
       "      <td>G2</td>\n",
       "      <td>27</td>\n",
       "      <td>74</td>\n",
       "      <td>36.486486</td>\n",
       "    </tr>\n",
       "    <tr>\n",
       "      <th>32</th>\n",
       "      <td>G3</td>\n",
       "      <td>18</td>\n",
       "      <td>41</td>\n",
       "      <td>43.902439</td>\n",
       "    </tr>\n",
       "    <tr>\n",
       "      <th>33</th>\n",
       "      <td>G4</td>\n",
       "      <td>13</td>\n",
       "      <td>54</td>\n",
       "      <td>24.074074</td>\n",
       "    </tr>\n",
       "    <tr>\n",
       "      <th>34</th>\n",
       "      <td>G5</td>\n",
       "      <td>9</td>\n",
       "      <td>25</td>\n",
       "      <td>36.000000</td>\n",
       "    </tr>\n",
       "  </tbody>\n",
       "</table>\n",
       "</div>"
      ],
      "text/plain": [
       "   sub_grade  loan_status_bool  count  % Charged off\n",
       "0         A1                23   1005       2.288557\n",
       "1         A2                63   1356       4.646018\n",
       "2         A3                80   1630       4.907975\n",
       "3         A4               158   2662       5.935387\n",
       "4         A5               189   2487       7.599517\n",
       "5         B1               141   1613       8.741476\n",
       "6         B2               191   1825      10.465753\n",
       "7         B3               307   2589      11.857860\n",
       "8         B4               283   2247      12.594571\n",
       "9         B5               331   2444      13.543372\n",
       "10        C1               288   1874      15.368196\n",
       "11        C2               282   1791      15.745394\n",
       "12        C3               236   1369      17.238860\n",
       "13        C4               182   1094      16.636197\n",
       "14        C5               181   1052      17.205323\n",
       "15        D1               141    845      16.686391\n",
       "16        D2               236   1184      19.932432\n",
       "17        D3               227   1022      22.211350\n",
       "18        D4               192    848      22.641509\n",
       "19        D5               184    763      24.115334\n",
       "20        E1               185    691      26.772793\n",
       "21        E2               147    566      25.971731\n",
       "22        E3               105    482      21.784232\n",
       "23        E4               115    394      29.187817\n",
       "24        E5                96    348      27.586207\n",
       "25        F1                84    293      28.668942\n",
       "26        F2                63    214      29.439252\n",
       "27        F3                45    160      28.125000\n",
       "28        F4                48    136      35.294118\n",
       "29        F5                46     99      46.464646\n",
       "30        G1                26     88      29.545455\n",
       "31        G2                27     74      36.486486\n",
       "32        G3                18     41      43.902439\n",
       "33        G4                13     54      24.074074\n",
       "34        G5                 9     25      36.000000"
      ]
     },
     "execution_count": 41,
     "metadata": {},
     "output_type": "execute_result"
    }
   ],
   "source": [
    "## Understanding the %charged off for \"sub grade\" column\n",
    "\n",
    "#create a groubby dataframe for gb_subgrade\n",
    "gb_subgrade = loan_final.groupby(\"sub_grade\")\n",
    "# create two dataset for calculating %\n",
    "Charged_off_count = gb_subgrade[\"loan_status_bool\"].sum()\n",
    "total_count = gb_subgrade[\"count\"].sum()\n",
    "subgrade = pd.merge(Charged_off_count, total_count, how='inner', on='sub_grade')\n",
    "subgrade[\"% Charged off\"] = (subgrade[\"loan_status_bool\"] / subgrade[\"count\"]) * 100\n",
    "subgrade.reset_index(inplace=True)\n",
    "subgrade"
   ]
  },
  {
   "cell_type": "code",
   "execution_count": 42,
   "metadata": {
    "tags": []
   },
   "outputs": [
    {
     "data": {
      "image/png": "[encoded data removed]",
      "text/plain": [
       "<Figure size 1080x360 with 1 Axes>"
      ]
     },
     "metadata": {},
     "output_type": "display_data"
    }
   ],
   "source": [
    "sns.set(style=\"whitegrid\")\n",
    "plt.figure(figsize = (15, 5))\n",
    "sns.barplot(data = subgrade, x = \"sub_grade\", y = \"% Charged off\")\n",
    "plt.title(\"% Charged off w.r.t sub-grade\")\n",
    "plt.show()"
   ]
  },
  {
   "cell_type": "markdown",
   "metadata": {},
   "source": [
    "Observation: different sub_grade shows relationship between %charged off loans"
   ]
  },
  {
   "cell_type": "markdown",
   "metadata": {},
   "source": [
    "  "
   ]
  },
  {
   "cell_type": "markdown",
   "metadata": {},
   "source": [
    " "
   ]
  },
  {
   "cell_type": "markdown",
   "metadata": {},
   "source": [
    "### As its repetative task to check each varibales graph, preparing a general function to work on"
   ]
  },
  {
   "cell_type": "code",
   "execution_count": 43,
   "metadata": {},
   "outputs": [],
   "source": [
    "def univarate_analysis(x):\n",
    "    variable = str(x)\n",
    "    gb_dataset = loan_final.groupby(str(variable))\n",
    "    \n",
    "    # create two dataset for calculating %\n",
    "    Charged_off_count = gb_dataset[\"loan_status_bool\"].sum()\n",
    "    total_count = gb_dataset[\"count\"].sum()\n",
    "    dataframe = pd.merge(Charged_off_count, total_count, how = 'inner', on = str(variable))\n",
    "    dataframe[\"% Charged off\"] = (dataframe[\"loan_status_bool\"] / dataframe[\"count\"]) * 100\n",
    "    dataframe.reset_index(inplace=True)\n",
    "    \n",
    "    # visualization \n",
    "    sns.set(style=\"whitegrid\")\n",
    "    plt.figure(figsize = (10, 5))\n",
    "    sns.barplot(data = dataframe, x = str(variable),  y = \"% Charged off\")\n",
    "    plt.title(\"% Charged off w.r.t\" + \" \" + str(variable))\n",
    "    plt.show()\n",
    "    \n",
    "    return \n"
   ]
  },
  {
   "cell_type": "code",
   "execution_count": 44,
   "metadata": {},
   "outputs": [
    {
     "data": {
      "image/png": "[encoded data removed]",
      "text/plain": [
       "<Figure size 720x360 with 1 Axes>"
      ]
     },
     "metadata": {},
     "output_type": "display_data"
    }
   ],
   "source": [
    "## Understanding the %charged off for \"employee_length\" column\n",
    "\n",
    "univarate_analysis(\"verification_status\")"
   ]
  },
  {
   "cell_type": "markdown",
   "metadata": {},
   "source": [
    "Observation: Verification status is not strongly agree with the % charge off "
   ]
  },
  {
   "cell_type": "code",
   "execution_count": 45,
   "metadata": {},
   "outputs": [
    {
     "data": {
      "image/png": "[encoded data removed]",
      "text/plain": [
       "<Figure size 720x360 with 1 Axes>"
      ]
     },
     "metadata": {},
     "output_type": "display_data"
    }
   ],
   "source": [
    "## Understanding the %charged off for \"employee_length\" column\n",
    "\n",
    "univarate_analysis(\"home_ownership\")"
   ]
  },
  {
   "cell_type": "markdown",
   "metadata": {},
   "source": [
    "Observation: Home ownership status is not strongly agree with the % charge off "
   ]
  },
  {
   "cell_type": "code",
   "execution_count": 46,
   "metadata": {},
   "outputs": [
    {
     "data": {
      "image/png": "[encoded data removed]",
      "text/plain": [
       "<Figure size 720x360 with 1 Axes>"
      ]
     },
     "metadata": {},
     "output_type": "display_data"
    }
   ],
   "source": [
    "## Understanding the %charged off for \"employee_length\" column\n",
    "## changing the figsize for this to 20 in the fuction.\n",
    "univarate_analysis(\"purpose\")\n"
   ]
  },
  {
   "cell_type": "markdown",
   "metadata": {},
   "source": [
    "Observation: purpose have not strong relationship for % charge off"
   ]
  },
  {
   "cell_type": "code",
   "execution_count": 47,
   "metadata": {},
   "outputs": [
    {
     "data": {
      "image/png": "[encoded data removed]",
      "text/plain": [
       "<Figure size 720x360 with 1 Axes>"
      ]
     },
     "metadata": {},
     "output_type": "display_data"
    }
   ],
   "source": [
    "## Understanding the %charged off for \"employee_length\" column\n",
    "\n",
    "univarate_analysis(\"term\")"
   ]
  },
  {
   "cell_type": "markdown",
   "metadata": {},
   "source": [
    "Observation: Term having strong relationship for % charge off"
   ]
  },
  {
   "cell_type": "code",
   "execution_count": 48,
   "metadata": {},
   "outputs": [
    {
     "data": {
      "image/png": "[encoded data removed]",
      "text/plain": [
       "<Figure size 720x360 with 1 Axes>"
      ]
     },
     "metadata": {},
     "output_type": "display_data"
    }
   ],
   "source": [
    "univarate_analysis(\"issue_d\")"
   ]
  },
  {
   "cell_type": "markdown",
   "metadata": {},
   "source": [
    "Observation: issue_d have not strong relationship for % charge off"
   ]
  },
  {
   "cell_type": "code",
   "execution_count": 49,
   "metadata": {},
   "outputs": [
    {
     "data": {
      "image/png": "[encoded data removed]",
      "text/plain": [
       "<Figure size 720x360 with 1 Axes>"
      ]
     },
     "metadata": {},
     "output_type": "display_data"
    }
   ],
   "source": [
    "univarate_analysis(\"emp_length\")"
   ]
  },
  {
   "cell_type": "markdown",
   "metadata": {},
   "source": [
    "Observation: issue_d have not strong relationship for % charge off"
   ]
  },
  {
   "cell_type": "markdown",
   "metadata": {},
   "source": [
    "### Univariate analysis for numerical variables"
   ]
  },
  {
   "cell_type": "code",
   "execution_count": 50,
   "metadata": {},
   "outputs": [
    {
     "data": {
      "text/plain": [
       "count    35365.000000\n",
       "mean     11133.179697\n",
       "std       7326.276639\n",
       "min        500.000000\n",
       "25%       5500.000000\n",
       "50%      10000.000000\n",
       "75%      15000.000000\n",
       "max      35000.000000\n",
       "Name: loan_amnt, dtype: float64"
      ]
     },
     "execution_count": 50,
     "metadata": {},
     "output_type": "execute_result"
    }
   ],
   "source": [
    "# loan ammount\n",
    "loan_final.loan_amnt.describe()"
   ]
  },
  {
   "cell_type": "code",
   "execution_count": 51,
   "metadata": {},
   "outputs": [
    {
     "data": {
      "text/plain": [
       "<AxesSubplot:ylabel='Frequency'>"
      ]
     },
     "execution_count": 51,
     "metadata": {},
     "output_type": "execute_result"
    },
    {
     "data": {
      "image/png": "[encoded data removed]",
      "text/plain": [
       "<Figure size 432x432 with 1 Axes>"
      ]
     },
     "metadata": {},
     "output_type": "display_data"
    }
   ],
   "source": [
    "# loan ammount\n",
    "plt.style.use(\"ggplot\")\n",
    "plt.figure(figsize = (6, 6))\n",
    "loan_final.loan_amnt.plot.hist(bins = 10)"
   ]
  },
  {
   "cell_type": "code",
   "execution_count": 52,
   "metadata": {},
   "outputs": [
    {
     "data": {
      "image/png": "[encoded data removed]",
      "text/plain": [
       "<Figure size 720x360 with 1 Axes>"
      ]
     },
     "metadata": {},
     "output_type": "display_data"
    }
   ],
   "source": [
    "## creating a new columns after binning the loan ammount.\n",
    "loan_final['loan_ammount'] = pd.cut(x=loan_final['loan_amnt'], bins=[0, 5000, 10000, 15000, 20000, 25000, 30000, 35000])\n",
    "univarate_analysis(\"loan_ammount\")"
   ]
  },
  {
   "cell_type": "markdown",
   "metadata": {},
   "source": [
    "Observation: higher loan ammount having high % charge off so there is relation for loan_amt with % charge off"
   ]
  },
  {
   "cell_type": "markdown",
   "metadata": {},
   "source": [
    " "
   ]
  },
  {
   "cell_type": "code",
   "execution_count": 53,
   "metadata": {},
   "outputs": [
    {
     "data": {
      "text/plain": [
       "count    35365.000000\n",
       "mean        11.983494\n",
       "std          3.702615\n",
       "min          5.420000\n",
       "25%          8.940000\n",
       "50%         11.830000\n",
       "75%         14.460000\n",
       "max         24.400000\n",
       "Name: int_rate, dtype: float64"
      ]
     },
     "execution_count": 53,
     "metadata": {},
     "output_type": "execute_result"
    }
   ],
   "source": [
    "## checking \"int_rate\" variable to decide bin size\n",
    "\n",
    "loan_final.int_rate.describe()"
   ]
  },
  {
   "cell_type": "code",
   "execution_count": 54,
   "metadata": {},
   "outputs": [
    {
     "data": {
      "text/plain": [
       "<AxesSubplot:ylabel='Frequency'>"
      ]
     },
     "execution_count": 54,
     "metadata": {},
     "output_type": "execute_result"
    },
    {
     "data": {
      "image/png": "[encoded data removed]",
      "text/plain": [
       "<Figure size 432x432 with 1 Axes>"
      ]
     },
     "metadata": {},
     "output_type": "display_data"
    }
   ],
   "source": [
    "# loan ammount\n",
    "plt.style.use(\"ggplot\")\n",
    "plt.figure(figsize = (6, 6))\n",
    "loan_final.int_rate.plot.hist(bins = 10)"
   ]
  },
  {
   "cell_type": "code",
   "execution_count": 55,
   "metadata": {},
   "outputs": [
    {
     "data": {
      "image/png": "[encoded data removed]",
      "text/plain": [
       "<Figure size 720x360 with 1 Axes>"
      ]
     },
     "metadata": {},
     "output_type": "display_data"
    }
   ],
   "source": [
    "## creating a new columns after binning the loan ammount.\n",
    "loan_final['interest_rate'] = pd.cut(x=loan_final['int_rate'], bins=list(range(4, 26, 2)))\n",
    "univarate_analysis(\"interest_rate\")"
   ]
  },
  {
   "cell_type": "markdown",
   "metadata": {},
   "source": [
    "Observation: Strong relation for intrest_rate with % charge off"
   ]
  },
  {
   "cell_type": "markdown",
   "metadata": {},
   "source": [
    " "
   ]
  },
  {
   "cell_type": "code",
   "execution_count": 56,
   "metadata": {},
   "outputs": [
    {
     "data": {
      "text/plain": [
       "count    35365.000000\n",
       "mean       324.045146\n",
       "std        207.149207\n",
       "min         16.080000\n",
       "25%        167.840000\n",
       "50%        280.620000\n",
       "75%        426.560000\n",
       "max       1305.190000\n",
       "Name: installment, dtype: float64"
      ]
     },
     "execution_count": 56,
     "metadata": {},
     "output_type": "execute_result"
    }
   ],
   "source": [
    "## checking \"installment\" variable to decide bin size\n",
    "\n",
    "loan_final.installment.describe()"
   ]
  },
  {
   "cell_type": "code",
   "execution_count": 57,
   "metadata": {},
   "outputs": [
    {
     "data": {
      "text/plain": [
       "<AxesSubplot:ylabel='Frequency'>"
      ]
     },
     "execution_count": 57,
     "metadata": {},
     "output_type": "execute_result"
    },
    {
     "data": {
      "image/png": "[encoded data removed]",
      "text/plain": [
       "<Figure size 432x432 with 1 Axes>"
      ]
     },
     "metadata": {},
     "output_type": "display_data"
    }
   ],
   "source": [
    "# installment ammount\n",
    "plt.style.use(\"ggplot\")\n",
    "plt.figure(figsize = (6, 6))\n",
    "loan_final.installment.plot.hist(bins = 20)"
   ]
  },
  {
   "cell_type": "code",
   "execution_count": 58,
   "metadata": {},
   "outputs": [
    {
     "data": {
      "image/png": "[encoded data removed]",
      "text/plain": [
       "<Figure size 720x360 with 1 Axes>"
      ]
     },
     "metadata": {},
     "output_type": "display_data"
    }
   ],
   "source": [
    "## creating a new columns after binning the installment ammount.\n",
    "loan_final['installment_bin'] = pd.cut(x=loan_final['installment'], bins=list(range(15, 1400, 140)))\n",
    "univarate_analysis(\"installment_bin\")"
   ]
  },
  {
   "cell_type": "markdown",
   "metadata": {},
   "source": [
    "Observation: No relation for installment with % charge off"
   ]
  },
  {
   "cell_type": "code",
   "execution_count": 59,
   "metadata": {},
   "outputs": [
    {
     "data": {
      "text/plain": [
       "count    3.536500e+04\n",
       "mean     6.909774e+04\n",
       "std      6.396843e+04\n",
       "min      4.000000e+03\n",
       "25%      4.150000e+04\n",
       "50%      6.000000e+04\n",
       "75%      8.250000e+04\n",
       "max      6.000000e+06\n",
       "Name: annual_inc, dtype: float64"
      ]
     },
     "execution_count": 59,
     "metadata": {},
     "output_type": "execute_result"
    }
   ],
   "source": [
    "# annual income\n",
    "# as max ammount is 6E+06, seems not correct to represent for given dataset as mean and median of it is 6E+04\n",
    "# so, considering 75% quantile value as maximum for the drwaing bar graph \n",
    "loan_final.annual_inc.describe()"
   ]
  },
  {
   "cell_type": "code",
   "execution_count": 60,
   "metadata": {},
   "outputs": [
    {
     "data": {
      "image/png": "[encoded data removed]",
      "text/plain": [
       "<Figure size 720x360 with 1 Axes>"
      ]
     },
     "metadata": {},
     "output_type": "display_data"
    }
   ],
   "source": [
    "## checking \"annual income\" variable to decide bin size\n",
    "\n",
    "loan_final.annual_inc.describe()\n",
    "\n",
    "## creating a new columns after binning the installment ammount.\n",
    "loan_final['annual_income'] = pd.cut(x=loan_final['annual_inc'], bins=list(range(3500, 85000, 6000)))\n",
    "univarate_analysis(\"annual_income\")"
   ]
  },
  {
   "cell_type": "markdown",
   "metadata": {},
   "source": [
    "Observation: Annual income is not having strong relationship with %charge off, there is a trend between income with %anual income"
   ]
  },
  {
   "cell_type": "code",
   "execution_count": 61,
   "metadata": {},
   "outputs": [
    {
     "data": {
      "text/plain": [
       "count    35365.000000\n",
       "mean         0.866902\n",
       "std          1.064386\n",
       "min          0.000000\n",
       "25%          0.000000\n",
       "50%          1.000000\n",
       "75%          1.000000\n",
       "max          8.000000\n",
       "Name: inq_last_6mths, dtype: float64"
      ]
     },
     "execution_count": 61,
     "metadata": {},
     "output_type": "execute_result"
    }
   ],
   "source": [
    "# inq_last_6mths\n",
    "## checking \"inq_last_6mths\" variable to decide bin size\n",
    "loan_final.inq_last_6mths.describe()"
   ]
  },
  {
   "cell_type": "code",
   "execution_count": 62,
   "metadata": {},
   "outputs": [
    {
     "data": {
      "image/png": "[encoded data removed]",
      "text/plain": [
       "<Figure size 720x360 with 1 Axes>"
      ]
     },
     "metadata": {},
     "output_type": "display_data"
    }
   ],
   "source": [
    "\n",
    "## creating a new column after binning the inq_last_6mths.\n",
    "loan_final['inq_last_6mths_'] = pd.cut(x=loan_final['inq_last_6mths'], bins=list(range(0, 9, 2)))\n",
    "univarate_analysis(\"inq_last_6mths_\")"
   ]
  },
  {
   "cell_type": "markdown",
   "metadata": {},
   "source": [
    "Observation: inq_last_6mths_ is having relationship with %charge off, there is a trend between inq_last_6mths_with %charge off"
   ]
  },
  {
   "cell_type": "code",
   "execution_count": 63,
   "metadata": {},
   "outputs": [
    {
     "data": {
      "text/plain": [
       "count    35365.000000\n",
       "mean        13.404126\n",
       "std          6.636652\n",
       "min          0.000000\n",
       "25%          8.320000\n",
       "50%         13.500000\n",
       "75%         18.640000\n",
       "max         29.990000\n",
       "Name: dti, dtype: float64"
      ]
     },
     "execution_count": 63,
     "metadata": {},
     "output_type": "execute_result"
    }
   ],
   "source": [
    "# dti\n",
    "## checking \"dti\" variable to decide bin size\n",
    "loan_final.dti.describe()"
   ]
  },
  {
   "cell_type": "code",
   "execution_count": 64,
   "metadata": {},
   "outputs": [
    {
     "data": {
      "image/png": "[encoded data removed]",
      "text/plain": [
       "<Figure size 720x360 with 1 Axes>"
      ]
     },
     "metadata": {},
     "output_type": "display_data"
    }
   ],
   "source": [
    "## creating a new column after binning the \"dti\".\n",
    "loan_final['debt_to_invest_ratio'] = pd.cut(x=loan_final['dti'], bins=list(range(0, 30, 5)))\n",
    "univarate_analysis(\"debt_to_invest_ratio\")"
   ]
  },
  {
   "cell_type": "markdown",
   "metadata": {},
   "source": [
    "Observation: dti is having relationship with %charge off, there is a trend between dti %charge off"
   ]
  },
  {
   "cell_type": "markdown",
   "metadata": {},
   "source": [
    "#### Summary for univariate analysis"
   ]
  },
  {
   "cell_type": "markdown",
   "metadata": {},
   "source": [
    "From the univariate analysis, below variables are found to be important for risk assesment. <br />\n",
    "[ loan_amnt, int_rate, grade, sub_grade, annual_inc, inq_last_6mths, dti ]"
   ]
  },
  {
   "cell_type": "code",
   "execution_count": 65,
   "metadata": {},
   "outputs": [
    {
     "data": {
      "text/html": [
       "<div>\n",
       "<style scoped>\n",
       "    .dataframe tbody tr th:only-of-type {\n",
       "        vertical-align: middle;\n",
       "    }\n",
       "\n",
       "    .dataframe tbody tr th {\n",
       "        vertical-align: top;\n",
       "    }\n",
       "\n",
       "    .dataframe thead th {\n",
       "        text-align: right;\n",
       "    }\n",
       "</style>\n",
       "<table border=\"1\" class=\"dataframe\">\n",
       "  <thead>\n",
       "    <tr style=\"text-align: right;\">\n",
       "      <th></th>\n",
       "      <th>loan_amnt</th>\n",
       "      <th>int_rate</th>\n",
       "      <th>installment</th>\n",
       "      <th>grade</th>\n",
       "      <th>sub_grade</th>\n",
       "      <th>emp_title</th>\n",
       "      <th>emp_length</th>\n",
       "      <th>home_ownership</th>\n",
       "      <th>annual_inc</th>\n",
       "      <th>verification_status</th>\n",
       "      <th>...</th>\n",
       "      <th>emp_length_num</th>\n",
       "      <th>count</th>\n",
       "      <th>loan_status_num</th>\n",
       "      <th>loan_status_bool</th>\n",
       "      <th>loan_ammount</th>\n",
       "      <th>interest_rate</th>\n",
       "      <th>installment_bin</th>\n",
       "      <th>annual_income</th>\n",
       "      <th>inq_last_6mths_</th>\n",
       "      <th>debt_to_invest_ratio</th>\n",
       "    </tr>\n",
       "  </thead>\n",
       "  <tbody>\n",
       "    <tr>\n",
       "      <th>1</th>\n",
       "      <td>2500</td>\n",
       "      <td>15.27</td>\n",
       "      <td>59.83</td>\n",
       "      <td>C</td>\n",
       "      <td>C4</td>\n",
       "      <td>Ryder</td>\n",
       "      <td>&lt; 1 year</td>\n",
       "      <td>RENT</td>\n",
       "      <td>30000.00</td>\n",
       "      <td>Source Verified</td>\n",
       "      <td>...</td>\n",
       "      <td>0.5</td>\n",
       "      <td>1</td>\n",
       "      <td>0</td>\n",
       "      <td>True</td>\n",
       "      <td>(0, 5000]</td>\n",
       "      <td>(14, 16]</td>\n",
       "      <td>(15, 155]</td>\n",
       "      <td>(27500.0, 33500.0]</td>\n",
       "      <td>(4.0, 6.0]</td>\n",
       "      <td>(0, 5]</td>\n",
       "    </tr>\n",
       "    <tr>\n",
       "      <th>3</th>\n",
       "      <td>10000</td>\n",
       "      <td>13.49</td>\n",
       "      <td>339.31</td>\n",
       "      <td>C</td>\n",
       "      <td>C1</td>\n",
       "      <td>AIR RESOURCES BOARD</td>\n",
       "      <td>10+ years</td>\n",
       "      <td>RENT</td>\n",
       "      <td>49200.00</td>\n",
       "      <td>Source Verified</td>\n",
       "      <td>...</td>\n",
       "      <td>10.5</td>\n",
       "      <td>1</td>\n",
       "      <td>1</td>\n",
       "      <td>False</td>\n",
       "      <td>(5000, 10000]</td>\n",
       "      <td>(12, 14]</td>\n",
       "      <td>(295, 435]</td>\n",
       "      <td>(45500.0, 51500.0]</td>\n",
       "      <td>(0.0, 2.0]</td>\n",
       "      <td>(15, 20]</td>\n",
       "    </tr>\n",
       "    <tr>\n",
       "      <th>5</th>\n",
       "      <td>5000</td>\n",
       "      <td>7.90</td>\n",
       "      <td>156.46</td>\n",
       "      <td>A</td>\n",
       "      <td>A4</td>\n",
       "      <td>Veolia Transportaton</td>\n",
       "      <td>3 years</td>\n",
       "      <td>RENT</td>\n",
       "      <td>36000.00</td>\n",
       "      <td>Source Verified</td>\n",
       "      <td>...</td>\n",
       "      <td>3.0</td>\n",
       "      <td>1</td>\n",
       "      <td>1</td>\n",
       "      <td>False</td>\n",
       "      <td>(0, 5000]</td>\n",
       "      <td>(6, 8]</td>\n",
       "      <td>(155, 295]</td>\n",
       "      <td>(33500.0, 39500.0]</td>\n",
       "      <td>(2.0, 4.0]</td>\n",
       "      <td>(10, 15]</td>\n",
       "    </tr>\n",
       "    <tr>\n",
       "      <th>6</th>\n",
       "      <td>7000</td>\n",
       "      <td>15.96</td>\n",
       "      <td>170.08</td>\n",
       "      <td>C</td>\n",
       "      <td>C5</td>\n",
       "      <td>Southern Star Photography</td>\n",
       "      <td>8 years</td>\n",
       "      <td>RENT</td>\n",
       "      <td>47004.00</td>\n",
       "      <td>Not Verified</td>\n",
       "      <td>...</td>\n",
       "      <td>8.0</td>\n",
       "      <td>1</td>\n",
       "      <td>1</td>\n",
       "      <td>False</td>\n",
       "      <td>(5000, 10000]</td>\n",
       "      <td>(14, 16]</td>\n",
       "      <td>(155, 295]</td>\n",
       "      <td>(45500.0, 51500.0]</td>\n",
       "      <td>(0.0, 2.0]</td>\n",
       "      <td>(20, 25]</td>\n",
       "    </tr>\n",
       "    <tr>\n",
       "      <th>7</th>\n",
       "      <td>3000</td>\n",
       "      <td>18.64</td>\n",
       "      <td>109.43</td>\n",
       "      <td>E</td>\n",
       "      <td>E1</td>\n",
       "      <td>MKC Accounting</td>\n",
       "      <td>9 years</td>\n",
       "      <td>RENT</td>\n",
       "      <td>48000.00</td>\n",
       "      <td>Source Verified</td>\n",
       "      <td>...</td>\n",
       "      <td>9.0</td>\n",
       "      <td>1</td>\n",
       "      <td>1</td>\n",
       "      <td>False</td>\n",
       "      <td>(0, 5000]</td>\n",
       "      <td>(18, 20]</td>\n",
       "      <td>(15, 155]</td>\n",
       "      <td>(45500.0, 51500.0]</td>\n",
       "      <td>(0.0, 2.0]</td>\n",
       "      <td>(5, 10]</td>\n",
       "    </tr>\n",
       "    <tr>\n",
       "      <th>...</th>\n",
       "      <td>...</td>\n",
       "      <td>...</td>\n",
       "      <td>...</td>\n",
       "      <td>...</td>\n",
       "      <td>...</td>\n",
       "      <td>...</td>\n",
       "      <td>...</td>\n",
       "      <td>...</td>\n",
       "      <td>...</td>\n",
       "      <td>...</td>\n",
       "      <td>...</td>\n",
       "      <td>...</td>\n",
       "      <td>...</td>\n",
       "      <td>...</td>\n",
       "      <td>...</td>\n",
       "      <td>...</td>\n",
       "      <td>...</td>\n",
       "      <td>...</td>\n",
       "      <td>...</td>\n",
       "      <td>...</td>\n",
       "      <td>...</td>\n",
       "    </tr>\n",
       "    <tr>\n",
       "      <th>39433</th>\n",
       "      <td>7500</td>\n",
       "      <td>9.83</td>\n",
       "      <td>241.41</td>\n",
       "      <td>B</td>\n",
       "      <td>B3</td>\n",
       "      <td>UCLA Medical Center</td>\n",
       "      <td>7 years</td>\n",
       "      <td>RENT</td>\n",
       "      <td>96000.00</td>\n",
       "      <td>Not Verified</td>\n",
       "      <td>...</td>\n",
       "      <td>7.0</td>\n",
       "      <td>1</td>\n",
       "      <td>1</td>\n",
       "      <td>False</td>\n",
       "      <td>(5000, 10000]</td>\n",
       "      <td>(8, 10]</td>\n",
       "      <td>(155, 295]</td>\n",
       "      <td>NaN</td>\n",
       "      <td>NaN</td>\n",
       "      <td>(0, 5]</td>\n",
       "    </tr>\n",
       "    <tr>\n",
       "      <th>39475</th>\n",
       "      <td>12000</td>\n",
       "      <td>9.01</td>\n",
       "      <td>381.66</td>\n",
       "      <td>B</td>\n",
       "      <td>B2</td>\n",
       "      <td>Bank of America Corp.</td>\n",
       "      <td>6 years</td>\n",
       "      <td>MORTGAGE</td>\n",
       "      <td>100671.39</td>\n",
       "      <td>Not Verified</td>\n",
       "      <td>...</td>\n",
       "      <td>6.0</td>\n",
       "      <td>1</td>\n",
       "      <td>1</td>\n",
       "      <td>False</td>\n",
       "      <td>(10000, 15000]</td>\n",
       "      <td>(8, 10]</td>\n",
       "      <td>(295, 435]</td>\n",
       "      <td>NaN</td>\n",
       "      <td>NaN</td>\n",
       "      <td>(5, 10]</td>\n",
       "    </tr>\n",
       "    <tr>\n",
       "      <th>39551</th>\n",
       "      <td>12375</td>\n",
       "      <td>10.91</td>\n",
       "      <td>404.62</td>\n",
       "      <td>C</td>\n",
       "      <td>C3</td>\n",
       "      <td>Fullmoon Software</td>\n",
       "      <td>2 years</td>\n",
       "      <td>RENT</td>\n",
       "      <td>80000.00</td>\n",
       "      <td>Not Verified</td>\n",
       "      <td>...</td>\n",
       "      <td>2.0</td>\n",
       "      <td>1</td>\n",
       "      <td>1</td>\n",
       "      <td>False</td>\n",
       "      <td>(10000, 15000]</td>\n",
       "      <td>(10, 12]</td>\n",
       "      <td>(295, 435]</td>\n",
       "      <td>(75500.0, 81500.0]</td>\n",
       "      <td>NaN</td>\n",
       "      <td>(5, 10]</td>\n",
       "    </tr>\n",
       "    <tr>\n",
       "      <th>39562</th>\n",
       "      <td>4800</td>\n",
       "      <td>10.28</td>\n",
       "      <td>155.52</td>\n",
       "      <td>C</td>\n",
       "      <td>C1</td>\n",
       "      <td>E.E. Wine Inc</td>\n",
       "      <td>1 year</td>\n",
       "      <td>RENT</td>\n",
       "      <td>35000.00</td>\n",
       "      <td>Not Verified</td>\n",
       "      <td>...</td>\n",
       "      <td>0.0</td>\n",
       "      <td>1</td>\n",
       "      <td>1</td>\n",
       "      <td>False</td>\n",
       "      <td>(0, 5000]</td>\n",
       "      <td>(10, 12]</td>\n",
       "      <td>(155, 295]</td>\n",
       "      <td>(33500.0, 39500.0]</td>\n",
       "      <td>NaN</td>\n",
       "      <td>(5, 10]</td>\n",
       "    </tr>\n",
       "    <tr>\n",
       "      <th>39623</th>\n",
       "      <td>9000</td>\n",
       "      <td>12.49</td>\n",
       "      <td>301.04</td>\n",
       "      <td>D</td>\n",
       "      <td>D3</td>\n",
       "      <td>Maximus</td>\n",
       "      <td>8 years</td>\n",
       "      <td>MORTGAGE</td>\n",
       "      <td>39000.00</td>\n",
       "      <td>Not Verified</td>\n",
       "      <td>...</td>\n",
       "      <td>8.0</td>\n",
       "      <td>1</td>\n",
       "      <td>0</td>\n",
       "      <td>True</td>\n",
       "      <td>(5000, 10000]</td>\n",
       "      <td>(12, 14]</td>\n",
       "      <td>(295, 435]</td>\n",
       "      <td>(33500.0, 39500.0]</td>\n",
       "      <td>(2.0, 4.0]</td>\n",
       "      <td>(5, 10]</td>\n",
       "    </tr>\n",
       "  </tbody>\n",
       "</table>\n",
       "<p>35365 rows × 28 columns</p>\n",
       "</div>"
      ],
      "text/plain": [
       "       loan_amnt  int_rate  installment grade sub_grade  \\\n",
       "1           2500     15.27        59.83     C        C4   \n",
       "3          10000     13.49       339.31     C        C1   \n",
       "5           5000      7.90       156.46     A        A4   \n",
       "6           7000     15.96       170.08     C        C5   \n",
       "7           3000     18.64       109.43     E        E1   \n",
       "...          ...       ...          ...   ...       ...   \n",
       "39433       7500      9.83       241.41     B        B3   \n",
       "39475      12000      9.01       381.66     B        B2   \n",
       "39551      12375     10.91       404.62     C        C3   \n",
       "39562       4800     10.28       155.52     C        C1   \n",
       "39623       9000     12.49       301.04     D        D3   \n",
       "\n",
       "                       emp_title emp_length home_ownership  annual_inc  \\\n",
       "1                          Ryder   < 1 year           RENT    30000.00   \n",
       "3            AIR RESOURCES BOARD  10+ years           RENT    49200.00   \n",
       "5           Veolia Transportaton    3 years           RENT    36000.00   \n",
       "6      Southern Star Photography    8 years           RENT    47004.00   \n",
       "7                MKC Accounting     9 years           RENT    48000.00   \n",
       "...                          ...        ...            ...         ...   \n",
       "39433        UCLA Medical Center    7 years           RENT    96000.00   \n",
       "39475      Bank of America Corp.    6 years       MORTGAGE   100671.39   \n",
       "39551          Fullmoon Software    2 years           RENT    80000.00   \n",
       "39562              E.E. Wine Inc     1 year           RENT    35000.00   \n",
       "39623                    Maximus    8 years       MORTGAGE    39000.00   \n",
       "\n",
       "      verification_status  ... emp_length_num count  loan_status_num  \\\n",
       "1         Source Verified  ...            0.5     1                0   \n",
       "3         Source Verified  ...           10.5     1                1   \n",
       "5         Source Verified  ...            3.0     1                1   \n",
       "6            Not Verified  ...            8.0     1                1   \n",
       "7         Source Verified  ...            9.0     1                1   \n",
       "...                   ...  ...            ...   ...              ...   \n",
       "39433        Not Verified  ...            7.0     1                1   \n",
       "39475        Not Verified  ...            6.0     1                1   \n",
       "39551        Not Verified  ...            2.0     1                1   \n",
       "39562        Not Verified  ...            0.0     1                1   \n",
       "39623        Not Verified  ...            8.0     1                0   \n",
       "\n",
       "      loan_status_bool    loan_ammount  interest_rate  installment_bin  \\\n",
       "1                 True       (0, 5000]       (14, 16]        (15, 155]   \n",
       "3                False   (5000, 10000]       (12, 14]       (295, 435]   \n",
       "5                False       (0, 5000]         (6, 8]       (155, 295]   \n",
       "6                False   (5000, 10000]       (14, 16]       (155, 295]   \n",
       "7                False       (0, 5000]       (18, 20]        (15, 155]   \n",
       "...                ...             ...            ...              ...   \n",
       "39433            False   (5000, 10000]        (8, 10]       (155, 295]   \n",
       "39475            False  (10000, 15000]        (8, 10]       (295, 435]   \n",
       "39551            False  (10000, 15000]       (10, 12]       (295, 435]   \n",
       "39562            False       (0, 5000]       (10, 12]       (155, 295]   \n",
       "39623             True   (5000, 10000]       (12, 14]       (295, 435]   \n",
       "\n",
       "            annual_income  inq_last_6mths_  debt_to_invest_ratio  \n",
       "1      (27500.0, 33500.0]       (4.0, 6.0]                (0, 5]  \n",
       "3      (45500.0, 51500.0]       (0.0, 2.0]              (15, 20]  \n",
       "5      (33500.0, 39500.0]       (2.0, 4.0]              (10, 15]  \n",
       "6      (45500.0, 51500.0]       (0.0, 2.0]              (20, 25]  \n",
       "7      (45500.0, 51500.0]       (0.0, 2.0]               (5, 10]  \n",
       "...                   ...              ...                   ...  \n",
       "39433                 NaN              NaN                (0, 5]  \n",
       "39475                 NaN              NaN               (5, 10]  \n",
       "39551  (75500.0, 81500.0]              NaN               (5, 10]  \n",
       "39562  (33500.0, 39500.0]              NaN               (5, 10]  \n",
       "39623  (33500.0, 39500.0]       (2.0, 4.0]               (5, 10]  \n",
       "\n",
       "[35365 rows x 28 columns]"
      ]
     },
     "execution_count": 65,
     "metadata": {},
     "output_type": "execute_result"
    }
   ],
   "source": [
    "loan_final"
   ]
  },
  {
   "cell_type": "code",
   "execution_count": 70,
   "metadata": {},
   "outputs": [
    {
     "data": {
      "text/html": [
       "<div>\n",
       "<style scoped>\n",
       "    .dataframe tbody tr th:only-of-type {\n",
       "        vertical-align: middle;\n",
       "    }\n",
       "\n",
       "    .dataframe tbody tr th {\n",
       "        vertical-align: top;\n",
       "    }\n",
       "\n",
       "    .dataframe thead th {\n",
       "        text-align: right;\n",
       "    }\n",
       "</style>\n",
       "<table border=\"1\" class=\"dataframe\">\n",
       "  <thead>\n",
       "    <tr style=\"text-align: right;\">\n",
       "      <th></th>\n",
       "      <th>loan_ammount</th>\n",
       "      <th>interest_rate</th>\n",
       "      <th>count</th>\n",
       "    </tr>\n",
       "  </thead>\n",
       "  <tbody>\n",
       "    <tr>\n",
       "      <th>0</th>\n",
       "      <td>(0, 5000]</td>\n",
       "      <td>(4, 6]</td>\n",
       "      <td>425</td>\n",
       "    </tr>\n",
       "    <tr>\n",
       "      <th>1</th>\n",
       "      <td>(0, 5000]</td>\n",
       "      <td>(6, 8]</td>\n",
       "      <td>1815</td>\n",
       "    </tr>\n",
       "    <tr>\n",
       "      <th>2</th>\n",
       "      <td>(0, 5000]</td>\n",
       "      <td>(8, 10]</td>\n",
       "      <td>955</td>\n",
       "    </tr>\n",
       "    <tr>\n",
       "      <th>3</th>\n",
       "      <td>(0, 5000]</td>\n",
       "      <td>(10, 12]</td>\n",
       "      <td>1820</td>\n",
       "    </tr>\n",
       "    <tr>\n",
       "      <th>4</th>\n",
       "      <td>(0, 5000]</td>\n",
       "      <td>(12, 14]</td>\n",
       "      <td>1649</td>\n",
       "    </tr>\n",
       "    <tr>\n",
       "      <th>...</th>\n",
       "      <td>...</td>\n",
       "      <td>...</td>\n",
       "      <td>...</td>\n",
       "    </tr>\n",
       "    <tr>\n",
       "      <th>65</th>\n",
       "      <td>(30000, 35000]</td>\n",
       "      <td>(14, 16]</td>\n",
       "      <td>74</td>\n",
       "    </tr>\n",
       "    <tr>\n",
       "      <th>66</th>\n",
       "      <td>(30000, 35000]</td>\n",
       "      <td>(16, 18]</td>\n",
       "      <td>119</td>\n",
       "    </tr>\n",
       "    <tr>\n",
       "      <th>67</th>\n",
       "      <td>(30000, 35000]</td>\n",
       "      <td>(18, 20]</td>\n",
       "      <td>117</td>\n",
       "    </tr>\n",
       "    <tr>\n",
       "      <th>68</th>\n",
       "      <td>(30000, 35000]</td>\n",
       "      <td>(20, 22]</td>\n",
       "      <td>79</td>\n",
       "    </tr>\n",
       "    <tr>\n",
       "      <th>69</th>\n",
       "      <td>(30000, 35000]</td>\n",
       "      <td>(22, 24]</td>\n",
       "      <td>33</td>\n",
       "    </tr>\n",
       "  </tbody>\n",
       "</table>\n",
       "<p>70 rows × 3 columns</p>\n",
       "</div>"
      ],
      "text/plain": [
       "      loan_ammount interest_rate  count\n",
       "0        (0, 5000]        (4, 6]    425\n",
       "1        (0, 5000]        (6, 8]   1815\n",
       "2        (0, 5000]       (8, 10]    955\n",
       "3        (0, 5000]      (10, 12]   1820\n",
       "4        (0, 5000]      (12, 14]   1649\n",
       "..             ...           ...    ...\n",
       "65  (30000, 35000]      (14, 16]     74\n",
       "66  (30000, 35000]      (16, 18]    119\n",
       "67  (30000, 35000]      (18, 20]    117\n",
       "68  (30000, 35000]      (20, 22]     79\n",
       "69  (30000, 35000]      (22, 24]     33\n",
       "\n",
       "[70 rows x 3 columns]"
      ]
     },
     "execution_count": 70,
     "metadata": {},
     "output_type": "execute_result"
    }
   ],
   "source": [
    "c=pd.DataFrame(loan_final.groupby(['loan_ammount','interest_rate'])['loan_status'].agg(count='count').reset_index())\n",
    "\n",
    "c"
   ]
  },
  {
   "cell_type": "code",
   "execution_count": 86,
   "metadata": {},
   "outputs": [
    {
     "data": {
      "image/png": "[encoded data removed]",
      "text/plain": [
       "<Figure size 720x720 with 1 Axes>"
      ]
     },
     "metadata": {},
     "output_type": "display_data"
    }
   ],
   "source": [
    "plt.figure(figsize = (10,10))\n",
    "sns.barplot(data=c,x=c['loan_ammount'],y=c['count'],hue='interest_rate',dodge=False)\n",
    "plt.ylim(0,2700) #Adjust the limits of the y-axis\n",
    "plt.xlim(0,7) #Adjust the limits of the x-axis\n",
    "\n",
    "plt.tight_layout()"
   ]
  },
  {
   "cell_type": "code",
   "execution_count": 72,
   "metadata": {},
   "outputs": [
    {
     "data": {
      "text/html": [
       "<div>\n",
       "<style scoped>\n",
       "    .dataframe tbody tr th:only-of-type {\n",
       "        vertical-align: middle;\n",
       "    }\n",
       "\n",
       "    .dataframe tbody tr th {\n",
       "        vertical-align: top;\n",
       "    }\n",
       "\n",
       "    .dataframe thead th {\n",
       "        text-align: right;\n",
       "    }\n",
       "</style>\n",
       "<table border=\"1\" class=\"dataframe\">\n",
       "  <thead>\n",
       "    <tr style=\"text-align: right;\">\n",
       "      <th></th>\n",
       "      <th>annual_income</th>\n",
       "      <th>interest_rate</th>\n",
       "      <th>count</th>\n",
       "    </tr>\n",
       "  </thead>\n",
       "  <tbody>\n",
       "    <tr>\n",
       "      <th>0</th>\n",
       "      <td>(3500, 9500]</td>\n",
       "      <td>(4, 6]</td>\n",
       "      <td>0</td>\n",
       "    </tr>\n",
       "    <tr>\n",
       "      <th>1</th>\n",
       "      <td>(3500, 9500]</td>\n",
       "      <td>(6, 8]</td>\n",
       "      <td>5</td>\n",
       "    </tr>\n",
       "    <tr>\n",
       "      <th>2</th>\n",
       "      <td>(3500, 9500]</td>\n",
       "      <td>(8, 10]</td>\n",
       "      <td>5</td>\n",
       "    </tr>\n",
       "    <tr>\n",
       "      <th>3</th>\n",
       "      <td>(3500, 9500]</td>\n",
       "      <td>(10, 12]</td>\n",
       "      <td>2</td>\n",
       "    </tr>\n",
       "    <tr>\n",
       "      <th>4</th>\n",
       "      <td>(3500, 9500]</td>\n",
       "      <td>(12, 14]</td>\n",
       "      <td>4</td>\n",
       "    </tr>\n",
       "    <tr>\n",
       "      <th>...</th>\n",
       "      <td>...</td>\n",
       "      <td>...</td>\n",
       "      <td>...</td>\n",
       "    </tr>\n",
       "    <tr>\n",
       "      <th>125</th>\n",
       "      <td>(75500, 81500]</td>\n",
       "      <td>(14, 16]</td>\n",
       "      <td>201</td>\n",
       "    </tr>\n",
       "    <tr>\n",
       "      <th>126</th>\n",
       "      <td>(75500, 81500]</td>\n",
       "      <td>(16, 18]</td>\n",
       "      <td>136</td>\n",
       "    </tr>\n",
       "    <tr>\n",
       "      <th>127</th>\n",
       "      <td>(75500, 81500]</td>\n",
       "      <td>(18, 20]</td>\n",
       "      <td>73</td>\n",
       "    </tr>\n",
       "    <tr>\n",
       "      <th>128</th>\n",
       "      <td>(75500, 81500]</td>\n",
       "      <td>(20, 22]</td>\n",
       "      <td>28</td>\n",
       "    </tr>\n",
       "    <tr>\n",
       "      <th>129</th>\n",
       "      <td>(75500, 81500]</td>\n",
       "      <td>(22, 24]</td>\n",
       "      <td>9</td>\n",
       "    </tr>\n",
       "  </tbody>\n",
       "</table>\n",
       "<p>130 rows × 3 columns</p>\n",
       "</div>"
      ],
      "text/plain": [
       "      annual_income interest_rate  count\n",
       "0      (3500, 9500]        (4, 6]      0\n",
       "1      (3500, 9500]        (6, 8]      5\n",
       "2      (3500, 9500]       (8, 10]      5\n",
       "3      (3500, 9500]      (10, 12]      2\n",
       "4      (3500, 9500]      (12, 14]      4\n",
       "..              ...           ...    ...\n",
       "125  (75500, 81500]      (14, 16]    201\n",
       "126  (75500, 81500]      (16, 18]    136\n",
       "127  (75500, 81500]      (18, 20]     73\n",
       "128  (75500, 81500]      (20, 22]     28\n",
       "129  (75500, 81500]      (22, 24]      9\n",
       "\n",
       "[130 rows x 3 columns]"
      ]
     },
     "execution_count": 72,
     "metadata": {},
     "output_type": "execute_result"
    }
   ],
   "source": [
    "d=pd.DataFrame(loan_final.groupby(['annual_income','interest_rate'])['loan_status'].agg(count='count').reset_index())\n",
    "\n",
    "d"
   ]
  },
  {
   "cell_type": "code",
   "execution_count": 96,
   "metadata": {},
   "outputs": [
    {
     "data": {
      "image/png": "[encoded data removed]",
      "text/plain": [
       "<Figure size 720x720 with 1 Axes>"
      ]
     },
     "metadata": {},
     "output_type": "display_data"
    }
   ],
   "source": [
    "plt.figure(figsize = (10,10))\n",
    "sns.barplot(data=d,x=d['annual_income'],y=d['count'],hue='interest_rate',dodge=False)\n",
    "plt.ylim(0,800) #Adjust the limits of the y-axis\n",
    "plt.xlim(0,14) #Adjust the limits of the x-axis\n",
    "plt.xticks(rotation=45)\n",
    "\n",
    "plt.tight_layout()"
   ]
  },
  {
   "cell_type": "code",
   "execution_count": 87,
   "metadata": {},
   "outputs": [
    {
     "data": {
      "text/html": [
       "<div>\n",
       "<style scoped>\n",
       "    .dataframe tbody tr th:only-of-type {\n",
       "        vertical-align: middle;\n",
       "    }\n",
       "\n",
       "    .dataframe tbody tr th {\n",
       "        vertical-align: top;\n",
       "    }\n",
       "\n",
       "    .dataframe thead th {\n",
       "        text-align: right;\n",
       "    }\n",
       "</style>\n",
       "<table border=\"1\" class=\"dataframe\">\n",
       "  <thead>\n",
       "    <tr style=\"text-align: right;\">\n",
       "      <th></th>\n",
       "      <th>annual_income</th>\n",
       "      <th>debt_to_invest_ratio</th>\n",
       "      <th>count</th>\n",
       "    </tr>\n",
       "  </thead>\n",
       "  <tbody>\n",
       "    <tr>\n",
       "      <th>0</th>\n",
       "      <td>(3500, 9500]</td>\n",
       "      <td>(0, 5]</td>\n",
       "      <td>3</td>\n",
       "    </tr>\n",
       "    <tr>\n",
       "      <th>1</th>\n",
       "      <td>(3500, 9500]</td>\n",
       "      <td>(5, 10]</td>\n",
       "      <td>6</td>\n",
       "    </tr>\n",
       "    <tr>\n",
       "      <th>2</th>\n",
       "      <td>(3500, 9500]</td>\n",
       "      <td>(10, 15]</td>\n",
       "      <td>5</td>\n",
       "    </tr>\n",
       "    <tr>\n",
       "      <th>3</th>\n",
       "      <td>(3500, 9500]</td>\n",
       "      <td>(15, 20]</td>\n",
       "      <td>4</td>\n",
       "    </tr>\n",
       "    <tr>\n",
       "      <th>4</th>\n",
       "      <td>(3500, 9500]</td>\n",
       "      <td>(20, 25]</td>\n",
       "      <td>2</td>\n",
       "    </tr>\n",
       "    <tr>\n",
       "      <th>...</th>\n",
       "      <td>...</td>\n",
       "      <td>...</td>\n",
       "      <td>...</td>\n",
       "    </tr>\n",
       "    <tr>\n",
       "      <th>60</th>\n",
       "      <td>(75500, 81500]</td>\n",
       "      <td>(0, 5]</td>\n",
       "      <td>186</td>\n",
       "    </tr>\n",
       "    <tr>\n",
       "      <th>61</th>\n",
       "      <td>(75500, 81500]</td>\n",
       "      <td>(5, 10]</td>\n",
       "      <td>344</td>\n",
       "    </tr>\n",
       "    <tr>\n",
       "      <th>62</th>\n",
       "      <td>(75500, 81500]</td>\n",
       "      <td>(10, 15]</td>\n",
       "      <td>430</td>\n",
       "    </tr>\n",
       "    <tr>\n",
       "      <th>63</th>\n",
       "      <td>(75500, 81500]</td>\n",
       "      <td>(15, 20]</td>\n",
       "      <td>370</td>\n",
       "    </tr>\n",
       "    <tr>\n",
       "      <th>64</th>\n",
       "      <td>(75500, 81500]</td>\n",
       "      <td>(20, 25]</td>\n",
       "      <td>271</td>\n",
       "    </tr>\n",
       "  </tbody>\n",
       "</table>\n",
       "<p>65 rows × 3 columns</p>\n",
       "</div>"
      ],
      "text/plain": [
       "     annual_income debt_to_invest_ratio  count\n",
       "0     (3500, 9500]               (0, 5]      3\n",
       "1     (3500, 9500]              (5, 10]      6\n",
       "2     (3500, 9500]             (10, 15]      5\n",
       "3     (3500, 9500]             (15, 20]      4\n",
       "4     (3500, 9500]             (20, 25]      2\n",
       "..             ...                  ...    ...\n",
       "60  (75500, 81500]               (0, 5]    186\n",
       "61  (75500, 81500]              (5, 10]    344\n",
       "62  (75500, 81500]             (10, 15]    430\n",
       "63  (75500, 81500]             (15, 20]    370\n",
       "64  (75500, 81500]             (20, 25]    271\n",
       "\n",
       "[65 rows x 3 columns]"
      ]
     },
     "execution_count": 87,
     "metadata": {},
     "output_type": "execute_result"
    }
   ],
   "source": [
    "e=pd.DataFrame(loan_final.groupby(['annual_income','debt_to_invest_ratio'])['loan_status'].agg(count='count').reset_index())\n",
    "\n",
    "e"
   ]
  },
  {
   "cell_type": "code",
   "execution_count": 97,
   "metadata": {},
   "outputs": [
    {
     "data": {
      "image/png": "[encoded data removed]",
      "text/plain": [
       "<Figure size 720x720 with 1 Axes>"
      ]
     },
     "metadata": {},
     "output_type": "display_data"
    }
   ],
   "source": [
    "plt.figure(figsize = (10,10))\n",
    "sns.barplot(data=e,x=e['annual_income'],y=e['count'],hue='debt_to_invest_ratio',dodge=False)\n",
    "plt.ylim(0,800) #Adjust the limits of the y-axis\n",
    "plt.xlim(0,15) #Adjust the limits of the x-axis\n",
    "plt.xticks(rotation=45)\n",
    "\n",
    "plt.tight_layout()"
   ]
  },
  {
   "cell_type": "code",
   "execution_count": 99,
   "metadata": {},
   "outputs": [
    {
     "data": {
      "text/html": [
       "<div>\n",
       "<style scoped>\n",
       "    .dataframe tbody tr th:only-of-type {\n",
       "        vertical-align: middle;\n",
       "    }\n",
       "\n",
       "    .dataframe tbody tr th {\n",
       "        vertical-align: top;\n",
       "    }\n",
       "\n",
       "    .dataframe thead th {\n",
       "        text-align: right;\n",
       "    }\n",
       "</style>\n",
       "<table border=\"1\" class=\"dataframe\">\n",
       "  <thead>\n",
       "    <tr style=\"text-align: right;\">\n",
       "      <th></th>\n",
       "      <th>grade</th>\n",
       "      <th>debt_to_invest_ratio</th>\n",
       "      <th>count</th>\n",
       "    </tr>\n",
       "  </thead>\n",
       "  <tbody>\n",
       "    <tr>\n",
       "      <th>0</th>\n",
       "      <td>A</td>\n",
       "      <td>(0, 5]</td>\n",
       "      <td>1553</td>\n",
       "    </tr>\n",
       "    <tr>\n",
       "      <th>1</th>\n",
       "      <td>A</td>\n",
       "      <td>(5, 10]</td>\n",
       "      <td>2181</td>\n",
       "    </tr>\n",
       "    <tr>\n",
       "      <th>2</th>\n",
       "      <td>A</td>\n",
       "      <td>(10, 15]</td>\n",
       "      <td>2222</td>\n",
       "    </tr>\n",
       "    <tr>\n",
       "      <th>3</th>\n",
       "      <td>A</td>\n",
       "      <td>(15, 20]</td>\n",
       "      <td>1704</td>\n",
       "    </tr>\n",
       "    <tr>\n",
       "      <th>4</th>\n",
       "      <td>A</td>\n",
       "      <td>(20, 25]</td>\n",
       "      <td>1129</td>\n",
       "    </tr>\n",
       "    <tr>\n",
       "      <th>5</th>\n",
       "      <td>B</td>\n",
       "      <td>(0, 5]</td>\n",
       "      <td>1247</td>\n",
       "    </tr>\n",
       "    <tr>\n",
       "      <th>6</th>\n",
       "      <td>B</td>\n",
       "      <td>(5, 10]</td>\n",
       "      <td>2134</td>\n",
       "    </tr>\n",
       "    <tr>\n",
       "      <th>7</th>\n",
       "      <td>B</td>\n",
       "      <td>(10, 15]</td>\n",
       "      <td>2695</td>\n",
       "    </tr>\n",
       "    <tr>\n",
       "      <th>8</th>\n",
       "      <td>B</td>\n",
       "      <td>(15, 20]</td>\n",
       "      <td>2564</td>\n",
       "    </tr>\n",
       "    <tr>\n",
       "      <th>9</th>\n",
       "      <td>B</td>\n",
       "      <td>(20, 25]</td>\n",
       "      <td>1869</td>\n",
       "    </tr>\n",
       "    <tr>\n",
       "      <th>10</th>\n",
       "      <td>C</td>\n",
       "      <td>(0, 5]</td>\n",
       "      <td>726</td>\n",
       "    </tr>\n",
       "    <tr>\n",
       "      <th>11</th>\n",
       "      <td>C</td>\n",
       "      <td>(5, 10]</td>\n",
       "      <td>1308</td>\n",
       "    </tr>\n",
       "    <tr>\n",
       "      <th>12</th>\n",
       "      <td>C</td>\n",
       "      <td>(10, 15]</td>\n",
       "      <td>1865</td>\n",
       "    </tr>\n",
       "    <tr>\n",
       "      <th>13</th>\n",
       "      <td>C</td>\n",
       "      <td>(15, 20]</td>\n",
       "      <td>1740</td>\n",
       "    </tr>\n",
       "    <tr>\n",
       "      <th>14</th>\n",
       "      <td>C</td>\n",
       "      <td>(20, 25]</td>\n",
       "      <td>1437</td>\n",
       "    </tr>\n",
       "    <tr>\n",
       "      <th>15</th>\n",
       "      <td>D</td>\n",
       "      <td>(0, 5]</td>\n",
       "      <td>428</td>\n",
       "    </tr>\n",
       "    <tr>\n",
       "      <th>16</th>\n",
       "      <td>D</td>\n",
       "      <td>(5, 10]</td>\n",
       "      <td>845</td>\n",
       "    </tr>\n",
       "    <tr>\n",
       "      <th>17</th>\n",
       "      <td>D</td>\n",
       "      <td>(10, 15]</td>\n",
       "      <td>1195</td>\n",
       "    </tr>\n",
       "    <tr>\n",
       "      <th>18</th>\n",
       "      <td>D</td>\n",
       "      <td>(15, 20]</td>\n",
       "      <td>1200</td>\n",
       "    </tr>\n",
       "    <tr>\n",
       "      <th>19</th>\n",
       "      <td>D</td>\n",
       "      <td>(20, 25]</td>\n",
       "      <td>957</td>\n",
       "    </tr>\n",
       "    <tr>\n",
       "      <th>20</th>\n",
       "      <td>E</td>\n",
       "      <td>(0, 5]</td>\n",
       "      <td>245</td>\n",
       "    </tr>\n",
       "    <tr>\n",
       "      <th>21</th>\n",
       "      <td>E</td>\n",
       "      <td>(5, 10]</td>\n",
       "      <td>435</td>\n",
       "    </tr>\n",
       "    <tr>\n",
       "      <th>22</th>\n",
       "      <td>E</td>\n",
       "      <td>(10, 15]</td>\n",
       "      <td>632</td>\n",
       "    </tr>\n",
       "    <tr>\n",
       "      <th>23</th>\n",
       "      <td>E</td>\n",
       "      <td>(15, 20]</td>\n",
       "      <td>627</td>\n",
       "    </tr>\n",
       "    <tr>\n",
       "      <th>24</th>\n",
       "      <td>E</td>\n",
       "      <td>(20, 25]</td>\n",
       "      <td>532</td>\n",
       "    </tr>\n",
       "    <tr>\n",
       "      <th>25</th>\n",
       "      <td>F</td>\n",
       "      <td>(0, 5]</td>\n",
       "      <td>73</td>\n",
       "    </tr>\n",
       "    <tr>\n",
       "      <th>26</th>\n",
       "      <td>F</td>\n",
       "      <td>(5, 10]</td>\n",
       "      <td>158</td>\n",
       "    </tr>\n",
       "    <tr>\n",
       "      <th>27</th>\n",
       "      <td>F</td>\n",
       "      <td>(10, 15]</td>\n",
       "      <td>231</td>\n",
       "    </tr>\n",
       "    <tr>\n",
       "      <th>28</th>\n",
       "      <td>F</td>\n",
       "      <td>(15, 20]</td>\n",
       "      <td>259</td>\n",
       "    </tr>\n",
       "    <tr>\n",
       "      <th>29</th>\n",
       "      <td>F</td>\n",
       "      <td>(20, 25]</td>\n",
       "      <td>178</td>\n",
       "    </tr>\n",
       "    <tr>\n",
       "      <th>30</th>\n",
       "      <td>G</td>\n",
       "      <td>(0, 5]</td>\n",
       "      <td>20</td>\n",
       "    </tr>\n",
       "    <tr>\n",
       "      <th>31</th>\n",
       "      <td>G</td>\n",
       "      <td>(5, 10]</td>\n",
       "      <td>63</td>\n",
       "    </tr>\n",
       "    <tr>\n",
       "      <th>32</th>\n",
       "      <td>G</td>\n",
       "      <td>(10, 15]</td>\n",
       "      <td>60</td>\n",
       "    </tr>\n",
       "    <tr>\n",
       "      <th>33</th>\n",
       "      <td>G</td>\n",
       "      <td>(15, 20]</td>\n",
       "      <td>76</td>\n",
       "    </tr>\n",
       "    <tr>\n",
       "      <th>34</th>\n",
       "      <td>G</td>\n",
       "      <td>(20, 25]</td>\n",
       "      <td>62</td>\n",
       "    </tr>\n",
       "  </tbody>\n",
       "</table>\n",
       "</div>"
      ],
      "text/plain": [
       "   grade debt_to_invest_ratio  count\n",
       "0      A               (0, 5]   1553\n",
       "1      A              (5, 10]   2181\n",
       "2      A             (10, 15]   2222\n",
       "3      A             (15, 20]   1704\n",
       "4      A             (20, 25]   1129\n",
       "5      B               (0, 5]   1247\n",
       "6      B              (5, 10]   2134\n",
       "7      B             (10, 15]   2695\n",
       "8      B             (15, 20]   2564\n",
       "9      B             (20, 25]   1869\n",
       "10     C               (0, 5]    726\n",
       "11     C              (5, 10]   1308\n",
       "12     C             (10, 15]   1865\n",
       "13     C             (15, 20]   1740\n",
       "14     C             (20, 25]   1437\n",
       "15     D               (0, 5]    428\n",
       "16     D              (5, 10]    845\n",
       "17     D             (10, 15]   1195\n",
       "18     D             (15, 20]   1200\n",
       "19     D             (20, 25]    957\n",
       "20     E               (0, 5]    245\n",
       "21     E              (5, 10]    435\n",
       "22     E             (10, 15]    632\n",
       "23     E             (15, 20]    627\n",
       "24     E             (20, 25]    532\n",
       "25     F               (0, 5]     73\n",
       "26     F              (5, 10]    158\n",
       "27     F             (10, 15]    231\n",
       "28     F             (15, 20]    259\n",
       "29     F             (20, 25]    178\n",
       "30     G               (0, 5]     20\n",
       "31     G              (5, 10]     63\n",
       "32     G             (10, 15]     60\n",
       "33     G             (15, 20]     76\n",
       "34     G             (20, 25]     62"
      ]
     },
     "execution_count": 99,
     "metadata": {},
     "output_type": "execute_result"
    }
   ],
   "source": [
    "f=pd.DataFrame(loan_final.groupby(['grade','debt_to_invest_ratio'])['loan_status'].agg(count='count').reset_index())\n",
    "\n",
    "f"
   ]
  },
  {
   "cell_type": "code",
   "execution_count": 107,
   "metadata": {},
   "outputs": [
    {
     "data": {
      "image/png": "[encoded data removed]",
      "text/plain": [
       "<Figure size 720x720 with 1 Axes>"
      ]
     },
     "metadata": {},
     "output_type": "display_data"
    }
   ],
   "source": [
    "plt.figure(figsize = (10,10))\n",
    "sns.barplot(data=f,x=f['grade'],y=f['count'],hue='debt_to_invest_ratio',dodge=False)\n",
    "plt.ylim(0,2800) #Adjust the limits of the y-axis\n",
    "plt.xlim(0,7) #Adjust the limits of the x-axis\n",
    "plt.xticks(rotation=45)\n",
    "\n",
    "plt.tight_layout()"
   ]
  },
  {
   "cell_type": "code",
   "execution_count": null,
   "metadata": {},
   "outputs": [],
   "source": []
  },
  {
   "cell_type": "code",
   "execution_count": null,
   "metadata": {},
   "outputs": [],
   "source": []
  },
  {
   "cell_type": "code",
   "execution_count": null,
   "metadata": {},
   "outputs": [],
   "source": []
  },
  {
   "cell_type": "code",
   "execution_count": null,
   "metadata": {},
   "outputs": [],
   "source": []
  },
  {
   "cell_type": "code",
   "execution_count": null,
   "metadata": {},
   "outputs": [],
   "source": []
  },
  {
   "cell_type": "code",
   "execution_count": null,
   "metadata": {},
   "outputs": [],
   "source": []
  },
  {
   "cell_type": "code",
   "execution_count": null,
   "metadata": {},
   "outputs": [],
   "source": []
  },
  {
   "cell_type": "code",
   "execution_count": null,
   "metadata": {},
   "outputs": [],
   "source": []
  },
  {
   "cell_type": "code",
   "execution_count": null,
   "metadata": {},
   "outputs": [],
   "source": []
  },
  {
   "cell_type": "code",
   "execution_count": null,
   "metadata": {},
   "outputs": [],
   "source": []
  },
  {
   "cell_type": "code",
   "execution_count": null,
   "metadata": {},
   "outputs": [],
   "source": []
  },
  {
   "cell_type": "code",
   "execution_count": null,
   "metadata": {},
   "outputs": [],
   "source": []
  },
  {
   "cell_type": "code",
   "execution_count": null,
   "metadata": {},
   "outputs": [],
   "source": []
  },
  {
   "cell_type": "code",
   "execution_count": null,
   "metadata": {},
   "outputs": [],
   "source": []
  },
  {
   "cell_type": "code",
   "execution_count": null,
   "metadata": {},
   "outputs": [],
   "source": []
  },
  {
   "cell_type": "code",
   "execution_count": null,
   "metadata": {},
   "outputs": [],
   "source": []
  },
  {
   "cell_type": "code",
   "execution_count": null,
   "metadata": {},
   "outputs": [],
   "source": []
  },
  {
   "cell_type": "code",
   "execution_count": null,
   "metadata": {},
   "outputs": [],
   "source": []
  },
  {
   "cell_type": "code",
   "execution_count": null,
   "metadata": {},
   "outputs": [],
   "source": []
  },
  {
   "cell_type": "code",
   "execution_count": null,
   "metadata": {},
   "outputs": [],
   "source": []
  },
  {
   "cell_type": "code",
   "execution_count": null,
   "metadata": {},
   "outputs": [],
   "source": []
  },
  {
   "cell_type": "code",
   "execution_count": null,
   "metadata": {},
   "outputs": [],
   "source": []
  },
  {
   "cell_type": "code",
   "execution_count": null,
   "metadata": {},
   "outputs": [],
   "source": []
  },
  {
   "cell_type": "code",
   "execution_count": null,
   "metadata": {},
   "outputs": [],
   "source": []
  },
  {
   "cell_type": "code",
   "execution_count": null,
   "metadata": {},
   "outputs": [],
   "source": []
  }
 ],
 "metadata": {
  "kernelspec": {
   "display_name": "Python 3",
   "language": "python",
   "name": "python3"
  },
  "language_info": {
   "codemirror_mode": {
    "name": "ipython",
    "version": 3
   },
   "file_extension": ".py",
   "mimetype": "text/x-python",
   "name": "python",
   "nbconvert_exporter": "python",
   "pygments_lexer": "ipython3",
   "version": "3.8.5"
  }
 },
 "nbformat": 4,
 "nbformat_minor": 5
}
